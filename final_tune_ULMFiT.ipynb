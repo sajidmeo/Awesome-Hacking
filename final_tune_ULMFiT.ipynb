{
  "nbformat": 4,
  "nbformat_minor": 0,
  "metadata": {
    "colab": {
      "name": "final_tune_ULMFiT.ipynb",
      "provenance": [],
      "collapsed_sections": [],
      "include_colab_link": true
    },
    "kernelspec": {
      "name": "python3",
      "display_name": "Python 3"
    },
    "accelerator": "GPU"
  },
  "cells": [
    {
      "cell_type": "markdown",
      "metadata": {
        "id": "view-in-github",
        "colab_type": "text"
      },
      "source": [
        "<a href=\"https://colab.research.google.com/github/sajidmeo/Awesome-Hacking/blob/master/final_tune_ULMFiT.ipynb\" target=\"_parent\"><img src=\"https://colab.research.google.com/assets/colab-badge.svg\" alt=\"Open In Colab\"/></a>"
      ]
    },
    {
      "cell_type": "code",
      "metadata": {
        "id": "fiowBDTNdL2L",
        "colab_type": "code",
        "colab": {}
      },
      "source": [
        "# import libraries\n",
        "import fastai\n",
        "from fastai import *\n",
        "from fastai.text import * \n",
        "import pandas as pd\n",
        "import numpy as np\n",
        "from functools import partial\n"
      ],
      "execution_count": 0,
      "outputs": []
    },
    {
      "cell_type": "code",
      "metadata": {
        "id": "ym2QtW2WfaWw",
        "colab_type": "code",
        "colab": {}
      },
      "source": [
        "#df=pd.DataFrame({'label':dataset.target, 'text':dataset.data})"
      ],
      "execution_count": 0,
      "outputs": []
    },
    {
      "cell_type": "code",
      "metadata": {
        "id": "85e7eVkjg1px",
        "colab_type": "code",
        "colab": {}
      },
      "source": [
        "\n",
        "#url=\"https://raw.githubusercontent.com/sajidmeo/Datasets/master/Fiverr_data.csv\"\n",
        "url=\"https://raw.githubusercontent.com/sajidmeo/Datasets/master/Fiverr_data1.csv\"\n",
        "\n",
        "df=pd.read_csv(url,names=[\"classified\",\"query\",\"nfr\"] ,encoding='cp1252')"
      ],
      "execution_count": 0,
      "outputs": []
    },
    {
      "cell_type": "code",
      "metadata": {
        "id": "B9ui7kG6mKTS",
        "colab_type": "code",
        "outputId": "2f7a6587-c08a-4fa8-ae59-37714fe6a53c",
        "colab": {
          "base_uri": "https://localhost:8080/",
          "height": 419
        }
      },
      "source": [
        "df"
      ],
      "execution_count": 53,
      "outputs": [
        {
          "output_type": "execute_result",
          "data": {
            "text/html": [
              "<div>\n",
              "<style scoped>\n",
              "    .dataframe tbody tr th:only-of-type {\n",
              "        vertical-align: middle;\n",
              "    }\n",
              "\n",
              "    .dataframe tbody tr th {\n",
              "        vertical-align: top;\n",
              "    }\n",
              "\n",
              "    .dataframe thead th {\n",
              "        text-align: right;\n",
              "    }\n",
              "</style>\n",
              "<table border=\"1\" class=\"dataframe\">\n",
              "  <thead>\n",
              "    <tr style=\"text-align: right;\">\n",
              "      <th></th>\n",
              "      <th>classified</th>\n",
              "      <th>query</th>\n",
              "      <th>nfr</th>\n",
              "    </tr>\n",
              "  </thead>\n",
              "  <tbody>\n",
              "    <tr>\n",
              "      <th>0</th>\n",
              "      <td>1</td>\n",
              "      <td>The system shall refresh the display every 60 ...</td>\n",
              "      <td>Performance</td>\n",
              "    </tr>\n",
              "    <tr>\n",
              "      <th>1</th>\n",
              "      <td>1</td>\n",
              "      <td>The application shall match the color of the s...</td>\n",
              "      <td>Look and feel</td>\n",
              "    </tr>\n",
              "    <tr>\n",
              "      <th>2</th>\n",
              "      <td>1</td>\n",
              "      <td>The product shall be available during normal ...</td>\n",
              "      <td>Availability</td>\n",
              "    </tr>\n",
              "    <tr>\n",
              "      <th>3</th>\n",
              "      <td>1</td>\n",
              "      <td>If projected  the data must be understandable...</td>\n",
              "      <td>Usability</td>\n",
              "    </tr>\n",
              "    <tr>\n",
              "      <th>4</th>\n",
              "      <td>1</td>\n",
              "      <td>The product shall ensure that it can only be a...</td>\n",
              "      <td>Security</td>\n",
              "    </tr>\n",
              "    <tr>\n",
              "      <th>...</th>\n",
              "      <td>...</td>\n",
              "      <td>...</td>\n",
              "      <td>...</td>\n",
              "    </tr>\n",
              "    <tr>\n",
              "      <th>666</th>\n",
              "      <td>17</td>\n",
              "      <td>The system shall have the ability to add a new...</td>\n",
              "      <td>Flexibility</td>\n",
              "    </tr>\n",
              "    <tr>\n",
              "      <th>667</th>\n",
              "      <td>16</td>\n",
              "      <td>The elapsed duration of time required to produ...</td>\n",
              "      <td>Scalability</td>\n",
              "    </tr>\n",
              "    <tr>\n",
              "      <th>668</th>\n",
              "      <td>16</td>\n",
              "      <td>The business rules repository shall be scalabl...</td>\n",
              "      <td>Scalability</td>\n",
              "    </tr>\n",
              "    <tr>\n",
              "      <th>669</th>\n",
              "      <td>16</td>\n",
              "      <td>The payroll system shall be scalable to suppor...</td>\n",
              "      <td>Scalability</td>\n",
              "    </tr>\n",
              "    <tr>\n",
              "      <th>670</th>\n",
              "      <td>17</td>\n",
              "      <td>The travel reservation system shall be scalabl...</td>\n",
              "      <td>Scalability</td>\n",
              "    </tr>\n",
              "  </tbody>\n",
              "</table>\n",
              "<p>671 rows × 3 columns</p>\n",
              "</div>"
            ],
            "text/plain": [
              "     classified  ...            nfr\n",
              "0             1  ...    Performance\n",
              "1             1  ...  Look and feel\n",
              "2             1  ...   Availability\n",
              "3             1  ...      Usability\n",
              "4             1  ...       Security\n",
              "..          ...  ...            ...\n",
              "666          17  ...    Flexibility\n",
              "667          16  ...    Scalability\n",
              "668          16  ...    Scalability\n",
              "669          16  ...    Scalability\n",
              "670          17  ...    Scalability\n",
              "\n",
              "[671 rows x 3 columns]"
            ]
          },
          "metadata": {
            "tags": []
          },
          "execution_count": 53
        }
      ]
    },
    {
      "cell_type": "code",
      "metadata": {
        "id": "qUuOG-quhSSf",
        "colab_type": "code",
        "outputId": "c8a8b225-57ae-4c54-f365-a4895490971d",
        "colab": {
          "base_uri": "https://localhost:8080/",
          "height": 34
        }
      },
      "source": [
        "df.shape\n",
        "#df = df.reset_index(drop = True)"
      ],
      "execution_count": 54,
      "outputs": [
        {
          "output_type": "execute_result",
          "data": {
            "text/plain": [
              "(671, 3)"
            ]
          },
          "metadata": {
            "tags": []
          },
          "execution_count": 54
        }
      ]
    },
    {
      "cell_type": "code",
      "metadata": {
        "id": "ZoiNUgN0g2jf",
        "colab_type": "code",
        "colab": {}
      },
      "source": [
        "#df\n",
        "df=pd.DataFrame({'label':df[\"nfr\"], 'text':df[\"query\"]})"
      ],
      "execution_count": 0,
      "outputs": []
    },
    {
      "cell_type": "code",
      "metadata": {
        "id": "1QPbiXWJnuXG",
        "colab_type": "code",
        "outputId": "ac7b5407-ea72-4ff7-9120-1b30b64bc8e6",
        "colab": {
          "base_uri": "https://localhost:8080/",
          "height": 255
        }
      },
      "source": [
        "df['label'].value_counts()"
      ],
      "execution_count": 56,
      "outputs": [
        {
          "output_type": "execute_result",
          "data": {
            "text/plain": [
              "Functional Requirement    252\n",
              "Security                   77\n",
              "Usability                  74\n",
              "Operational                60\n",
              "Performance                53\n",
              "Look and feel              37\n",
              "Scalability                30\n",
              "Availability               29\n",
              "Maintainability            23\n",
              "Legal                      12\n",
              "Fault tolerance            10\n",
              "Portability                 7\n",
              "Flexibility                 7\n",
              "Name: label, dtype: int64"
            ]
          },
          "metadata": {
            "tags": []
          },
          "execution_count": 56
        }
      ]
    },
    {
      "cell_type": "code",
      "metadata": {
        "id": "qrgQ9xnktAJ0",
        "colab_type": "code",
        "colab": {}
      },
      "source": [
        "from sklearn.model_selection import train_test_split\n",
        "\n",
        "# split data into training and validation set\n",
        "df_trn, df_val = train_test_split(df, stratify = df['label'], test_size = 0.25, random_state = 12)"
      ],
      "execution_count": 0,
      "outputs": []
    },
    {
      "cell_type": "code",
      "metadata": {
        "id": "TCgaq3uQtGFr",
        "colab_type": "code",
        "outputId": "5f8cb67d-9634-4bdc-b3e3-a6a37f6cabb1",
        "colab": {
          "base_uri": "https://localhost:8080/",
          "height": 34
        }
      },
      "source": [
        "df_trn.shape, df_val.shape"
      ],
      "execution_count": 59,
      "outputs": [
        {
          "output_type": "execute_result",
          "data": {
            "text/plain": [
              "((503, 2), (168, 2))"
            ]
          },
          "metadata": {
            "tags": []
          },
          "execution_count": 59
        }
      ]
    },
    {
      "cell_type": "code",
      "metadata": {
        "id": "Rx27-RYpXKZm",
        "colab_type": "code",
        "outputId": "ba705f7f-2e01-4f1a-aa1a-2eced6b92556",
        "colab": {
          "base_uri": "https://localhost:8080/",
          "height": 17
        }
      },
      "source": [
        "# Language model data\n",
        "data_lm = TextLMDataBunch.from_df(train_df = df_trn, valid_df = df_val, path = \"\")\n",
        "\n",
        "# Classifier model data\n",
        "data_clas = TextClasDataBunch.from_df(path = \"\", train_df = df_trn, valid_df = df_val, vocab=data_lm.train_ds.vocab, bs=32)"
      ],
      "execution_count": 60,
      "outputs": [
        {
          "output_type": "display_data",
          "data": {
            "text/html": [
              ""
            ],
            "text/plain": [
              "<IPython.core.display.HTML object>"
            ]
          },
          "metadata": {
            "tags": []
          }
        },
        {
          "output_type": "display_data",
          "data": {
            "text/html": [
              ""
            ],
            "text/plain": [
              "<IPython.core.display.HTML object>"
            ]
          },
          "metadata": {
            "tags": []
          }
        },
        {
          "output_type": "display_data",
          "data": {
            "text/html": [
              ""
            ],
            "text/plain": [
              "<IPython.core.display.HTML object>"
            ]
          },
          "metadata": {
            "tags": []
          }
        },
        {
          "output_type": "display_data",
          "data": {
            "text/html": [
              ""
            ],
            "text/plain": [
              "<IPython.core.display.HTML object>"
            ]
          },
          "metadata": {
            "tags": []
          }
        }
      ]
    },
    {
      "cell_type": "code",
      "metadata": {
        "id": "nukTxv585jjg",
        "colab_type": "code",
        "outputId": "3c2e9283-7b85-45de-d480-85c324d4292b",
        "colab": {
          "base_uri": "https://localhost:8080/",
          "height": 323
        }
      },
      "source": [
        "data_lm.show_batch()"
      ],
      "execution_count": 61,
      "outputs": [
        {
          "output_type": "display_data",
          "data": {
            "text/html": [
              "<table border=\"1\" class=\"dataframe\">\n",
              "  <thead>\n",
              "    <tr style=\"text-align: right;\">\n",
              "      <th>idx</th>\n",
              "      <th>text</th>\n",
              "    </tr>\n",
              "  </thead>\n",
              "  <tbody>\n",
              "    <tr>\n",
              "      <td>0</td>\n",
              "      <td>be updated on a xxunk basis . xxmaj the product will have a new major feature introduced every six months and xxunk maintenance releases every six months . xxbos xxmaj the streaming server will support a maximum of xxunk movies ; new servers can be added to support more movies . xxbos a xxunk database will be used to store xxunk statistics and data . xxbos xxmaj the product shall</td>\n",
              "    </tr>\n",
              "    <tr>\n",
              "      <td>1</td>\n",
              "      <td>language   when    entering   their   personal   information .   xxbos xxmaj an xxunk survey will show that 95 % of customers are xxunk using and xxunk pre - paid cards after a month of using the system . xxbos xxmaj the interface shall be appealing to callers and supervisors . xxmaj in the interface and usability survey 80 % of beta testers must report</td>\n",
              "    </tr>\n",
              "    <tr>\n",
              "      <td>2</td>\n",
              "      <td>lab section xxunk to the same clinical class . xxbos a non - clinical class shall specify the course name lecture room requirements and instructor needs . xxbos xxmaj the process must fit within the processing time conditions set forth by the xxmaj xxunk xxmaj xxunk xxmaj assignment process in which a lead is assigned within 3 minutes of the total xxunk cycle . xxbos xxmaj the product shall adhere</td>\n",
              "    </tr>\n",
              "    <tr>\n",
              "      <td>3</td>\n",
              "      <td>able   to   use   the   product .    xxbos xxmaj the xxmaj disputes xxmaj system will provide the user the ability to create or initiate a ticket retrieval request . xxmaj as part of ticket retrieval creation process the system must prompt the user to enter all the required information to create the ticket retrieval request . xxmaj the ticket retrieval request is a document</td>\n",
              "    </tr>\n",
              "    <tr>\n",
              "      <td>4</td>\n",
              "      <td>is   xxunk ,   the   system   shall   xxunk   a   user   with   notification   xxunk   them   that   the    system   is   unavailable . xxbos xxmaj the product must comply with xxmaj xxunk - xxmaj xxunk . xxbos xxmaj the system shall have high availability every day of the year . xxmaj the system must be available for</td>\n",
              "    </tr>\n",
              "  </tbody>\n",
              "</table>"
            ],
            "text/plain": [
              "<IPython.core.display.HTML object>"
            ]
          },
          "metadata": {
            "tags": []
          }
        }
      ]
    },
    {
      "cell_type": "code",
      "metadata": {
        "id": "QAcH7oqz6Pmj",
        "colab_type": "code",
        "outputId": "f235ff1a-1b62-45f3-cad1-414a6bf48cef",
        "colab": {
          "base_uri": "https://localhost:8080/",
          "height": 272
        }
      },
      "source": [
        "data_lm.vocab.itos[:15]"
      ],
      "execution_count": 62,
      "outputs": [
        {
          "output_type": "execute_result",
          "data": {
            "text/plain": [
              "['xxunk',\n",
              " 'xxpad',\n",
              " 'xxbos',\n",
              " 'xxeos',\n",
              " 'xxfld',\n",
              " 'xxmaj',\n",
              " 'xxup',\n",
              " 'xxrep',\n",
              " 'xxwrep',\n",
              " 'the',\n",
              " '\\xa0',\n",
              " '.',\n",
              " 'shall',\n",
              " 'to',\n",
              " 'of']"
            ]
          },
          "metadata": {
            "tags": []
          },
          "execution_count": 62
        }
      ]
    },
    {
      "cell_type": "code",
      "metadata": {
        "id": "yt5XVRlIZDQ7",
        "colab_type": "code",
        "colab": {}
      },
      "source": [
        "learn = language_model_learner(data_lm, AWD_LSTM, drop_mult=0.5)\n",
        "# Language model\n",
        "#learner = language_model_learner(data_lm, pretrained_model=URLs.WT103_1, drop_mult=0.5)"
      ],
      "execution_count": 0,
      "outputs": []
    },
    {
      "cell_type": "code",
      "metadata": {
        "id": "TmvVNpMF82XT",
        "colab_type": "code",
        "outputId": "7a215f98-2845-487c-e0c0-758d68d05a7c",
        "colab": {
          "base_uri": "https://localhost:8080/",
          "height": 34
        }
      },
      "source": [
        "learn.lr_find()"
      ],
      "execution_count": 74,
      "outputs": [
        {
          "output_type": "display_data",
          "data": {
            "text/html": [
              ""
            ],
            "text/plain": [
              "<IPython.core.display.HTML object>"
            ]
          },
          "metadata": {
            "tags": []
          }
        },
        {
          "output_type": "stream",
          "text": [
            "LR Finder is complete, type {learner_name}.recorder.plot() to see the graph.\n"
          ],
          "name": "stdout"
        }
      ]
    },
    {
      "cell_type": "code",
      "metadata": {
        "id": "QBRdcv_yBy9b",
        "colab_type": "code",
        "outputId": "bc8eb512-9761-4a5c-a349-f42fb6484336",
        "colab": {
          "base_uri": "https://localhost:8080/",
          "height": 279
        }
      },
      "source": [
        "learn.recorder.plot()"
      ],
      "execution_count": 75,
      "outputs": [
        {
          "output_type": "display_data",
          "data": {
            "image/png": "[encoded data removed]",
            "text/plain": [
              "<Figure size 432x288 with 1 Axes>"
            ]
          },
          "metadata": {
            "tags": []
          }
        }
      ]
    },
    {
      "cell_type": "code",
      "metadata": {
        "id": "LBggQ46j818B",
        "colab_type": "code",
        "outputId": "5c3e2fdb-d57c-4d05-b70d-20e73a752f1f",
        "colab": {
          "base_uri": "https://localhost:8080/",
          "height": 514
        }
      },
      "source": [
        "# train the learner object with learning rate = 1e-2\n",
        "learn.fit_one_cycle(15, 1e-01)"
      ],
      "execution_count": 78,
      "outputs": [
        {
          "output_type": "display_data",
          "data": {
            "text/html": [
              "<table border=\"1\" class=\"dataframe\">\n",
              "  <thead>\n",
              "    <tr style=\"text-align: left;\">\n",
              "      <th>epoch</th>\n",
              "      <th>train_loss</th>\n",
              "      <th>valid_loss</th>\n",
              "      <th>accuracy</th>\n",
              "      <th>time</th>\n",
              "    </tr>\n",
              "  </thead>\n",
              "  <tbody>\n",
              "    <tr>\n",
              "      <td>0</td>\n",
              "      <td>1.097839</td>\n",
              "      <td>2.966926</td>\n",
              "      <td>0.461384</td>\n",
              "      <td>00:01</td>\n",
              "    </tr>\n",
              "    <tr>\n",
              "      <td>1</td>\n",
              "      <td>1.081939</td>\n",
              "      <td>3.012751</td>\n",
              "      <td>0.460714</td>\n",
              "      <td>00:01</td>\n",
              "    </tr>\n",
              "    <tr>\n",
              "      <td>2</td>\n",
              "      <td>1.080707</td>\n",
              "      <td>3.043823</td>\n",
              "      <td>0.461607</td>\n",
              "      <td>00:01</td>\n",
              "    </tr>\n",
              "    <tr>\n",
              "      <td>3</td>\n",
              "      <td>1.054807</td>\n",
              "      <td>3.121000</td>\n",
              "      <td>0.458929</td>\n",
              "      <td>00:01</td>\n",
              "    </tr>\n",
              "    <tr>\n",
              "      <td>4</td>\n",
              "      <td>1.029093</td>\n",
              "      <td>3.182158</td>\n",
              "      <td>0.450223</td>\n",
              "      <td>00:01</td>\n",
              "    </tr>\n",
              "    <tr>\n",
              "      <td>5</td>\n",
              "      <td>1.016156</td>\n",
              "      <td>3.287727</td>\n",
              "      <td>0.446652</td>\n",
              "      <td>00:01</td>\n",
              "    </tr>\n",
              "    <tr>\n",
              "      <td>6</td>\n",
              "      <td>1.002247</td>\n",
              "      <td>3.316138</td>\n",
              "      <td>0.451339</td>\n",
              "      <td>00:01</td>\n",
              "    </tr>\n",
              "    <tr>\n",
              "      <td>7</td>\n",
              "      <td>0.984336</td>\n",
              "      <td>3.315249</td>\n",
              "      <td>0.456250</td>\n",
              "      <td>00:01</td>\n",
              "    </tr>\n",
              "    <tr>\n",
              "      <td>8</td>\n",
              "      <td>0.973755</td>\n",
              "      <td>3.336065</td>\n",
              "      <td>0.450446</td>\n",
              "      <td>00:01</td>\n",
              "    </tr>\n",
              "    <tr>\n",
              "      <td>9</td>\n",
              "      <td>0.965951</td>\n",
              "      <td>3.387371</td>\n",
              "      <td>0.438839</td>\n",
              "      <td>00:01</td>\n",
              "    </tr>\n",
              "    <tr>\n",
              "      <td>10</td>\n",
              "      <td>0.944825</td>\n",
              "      <td>3.384369</td>\n",
              "      <td>0.451562</td>\n",
              "      <td>00:01</td>\n",
              "    </tr>\n",
              "    <tr>\n",
              "      <td>11</td>\n",
              "      <td>0.924791</td>\n",
              "      <td>3.371405</td>\n",
              "      <td>0.452679</td>\n",
              "      <td>00:01</td>\n",
              "    </tr>\n",
              "    <tr>\n",
              "      <td>12</td>\n",
              "      <td>0.908736</td>\n",
              "      <td>3.395033</td>\n",
              "      <td>0.454911</td>\n",
              "      <td>00:01</td>\n",
              "    </tr>\n",
              "    <tr>\n",
              "      <td>13</td>\n",
              "      <td>0.893049</td>\n",
              "      <td>3.377074</td>\n",
              "      <td>0.453348</td>\n",
              "      <td>00:01</td>\n",
              "    </tr>\n",
              "    <tr>\n",
              "      <td>14</td>\n",
              "      <td>0.878102</td>\n",
              "      <td>3.405793</td>\n",
              "      <td>0.451116</td>\n",
              "      <td>00:01</td>\n",
              "    </tr>\n",
              "  </tbody>\n",
              "</table>"
            ],
            "text/plain": [
              "<IPython.core.display.HTML object>"
            ]
          },
          "metadata": {
            "tags": []
          }
        }
      ]
    },
    {
      "cell_type": "code",
      "metadata": {
        "id": "qkxKBT4fAr-L",
        "colab_type": "code",
        "outputId": "3a78ed02-c104-4174-e3eb-dc487e591391",
        "colab": {
          "base_uri": "https://localhost:8080/",
          "height": 359
        }
      },
      "source": [
        "learn.unfreeze()\n",
        "learn.fit_one_cycle(10, 1e-3)\n",
        "\n",
        "\n"
      ],
      "execution_count": 79,
      "outputs": [
        {
          "output_type": "display_data",
          "data": {
            "text/html": [
              "<table border=\"1\" class=\"dataframe\">\n",
              "  <thead>\n",
              "    <tr style=\"text-align: left;\">\n",
              "      <th>epoch</th>\n",
              "      <th>train_loss</th>\n",
              "      <th>valid_loss</th>\n",
              "      <th>accuracy</th>\n",
              "      <th>time</th>\n",
              "    </tr>\n",
              "  </thead>\n",
              "  <tbody>\n",
              "    <tr>\n",
              "      <td>0</td>\n",
              "      <td>0.849568</td>\n",
              "      <td>3.359447</td>\n",
              "      <td>0.449554</td>\n",
              "      <td>00:01</td>\n",
              "    </tr>\n",
              "    <tr>\n",
              "      <td>1</td>\n",
              "      <td>0.784088</td>\n",
              "      <td>3.366998</td>\n",
              "      <td>0.458929</td>\n",
              "      <td>00:01</td>\n",
              "    </tr>\n",
              "    <tr>\n",
              "      <td>2</td>\n",
              "      <td>0.747859</td>\n",
              "      <td>3.342609</td>\n",
              "      <td>0.464509</td>\n",
              "      <td>00:01</td>\n",
              "    </tr>\n",
              "    <tr>\n",
              "      <td>3</td>\n",
              "      <td>0.750201</td>\n",
              "      <td>3.412070</td>\n",
              "      <td>0.448884</td>\n",
              "      <td>00:01</td>\n",
              "    </tr>\n",
              "    <tr>\n",
              "      <td>4</td>\n",
              "      <td>0.711092</td>\n",
              "      <td>3.408410</td>\n",
              "      <td>0.458482</td>\n",
              "      <td>00:01</td>\n",
              "    </tr>\n",
              "    <tr>\n",
              "      <td>5</td>\n",
              "      <td>0.672754</td>\n",
              "      <td>3.415099</td>\n",
              "      <td>0.460045</td>\n",
              "      <td>00:01</td>\n",
              "    </tr>\n",
              "    <tr>\n",
              "      <td>6</td>\n",
              "      <td>0.645835</td>\n",
              "      <td>3.432765</td>\n",
              "      <td>0.460491</td>\n",
              "      <td>00:01</td>\n",
              "    </tr>\n",
              "    <tr>\n",
              "      <td>7</td>\n",
              "      <td>0.619691</td>\n",
              "      <td>3.402530</td>\n",
              "      <td>0.462946</td>\n",
              "      <td>00:01</td>\n",
              "    </tr>\n",
              "    <tr>\n",
              "      <td>8</td>\n",
              "      <td>0.598595</td>\n",
              "      <td>3.438179</td>\n",
              "      <td>0.462277</td>\n",
              "      <td>00:01</td>\n",
              "    </tr>\n",
              "    <tr>\n",
              "      <td>9</td>\n",
              "      <td>0.583633</td>\n",
              "      <td>3.439563</td>\n",
              "      <td>0.461384</td>\n",
              "      <td>00:01</td>\n",
              "    </tr>\n",
              "  </tbody>\n",
              "</table>"
            ],
            "text/plain": [
              "<IPython.core.display.HTML object>"
            ]
          },
          "metadata": {
            "tags": []
          }
        }
      ]
    },
    {
      "cell_type": "code",
      "metadata": {
        "id": "cOtMgEopArxC",
        "colab_type": "code",
        "outputId": "2d94108d-7694-4f49-e7fd-d90068a0623c",
        "colab": {
          "base_uri": "https://localhost:8080/",
          "height": 34
        }
      },
      "source": [
        "learn.predict(\"this is movie of\",n_words=5)"
      ],
      "execution_count": 80,
      "outputs": [
        {
          "output_type": "execute_result",
          "data": {
            "text/plain": [
              "'this is movie of the product of the time'"
            ]
          },
          "metadata": {
            "tags": []
          },
          "execution_count": 80
        }
      ]
    },
    {
      "cell_type": "code",
      "metadata": {
        "id": "NMNn8K2jArvM",
        "colab_type": "code",
        "colab": {}
      },
      "source": [
        "learn.save_encoder('fine_enc')"
      ],
      "execution_count": 0,
      "outputs": []
    },
    {
      "cell_type": "code",
      "metadata": {
        "id": "rrFpKKyCArrw",
        "colab_type": "code",
        "outputId": "eb60c0f5-2664-4288-abc9-4286907f9425",
        "colab": {
          "base_uri": "https://localhost:8080/",
          "height": 17
        }
      },
      "source": [
        "# Classifier model data\n",
        "data_clas = TextClasDataBunch.from_df('./', train_df=df_trn, valid_df=df_val, vocab=data_lm.train_ds.vocab, bs=32)"
      ],
      "execution_count": 82,
      "outputs": [
        {
          "output_type": "display_data",
          "data": {
            "text/html": [
              ""
            ],
            "text/plain": [
              "<IPython.core.display.HTML object>"
            ]
          },
          "metadata": {
            "tags": []
          }
        },
        {
          "output_type": "display_data",
          "data": {
            "text/html": [
              ""
            ],
            "text/plain": [
              "<IPython.core.display.HTML object>"
            ]
          },
          "metadata": {
            "tags": []
          }
        }
      ]
    },
    {
      "cell_type": "code",
      "metadata": {
        "id": "yyGItVnyC9Vl",
        "colab_type": "code",
        "outputId": "dadf4131-4be5-464a-d3a0-357da7face08",
        "colab": {
          "base_uri": "https://localhost:8080/",
          "height": 1000
        }
      },
      "source": [
        "# Classifier\n",
        "classifier = text_classifier_learner(data_clas,AWD_LSTM, drop_mult=0.5)\n",
        "classifier.load_encoder('fine_enc')"
      ],
      "execution_count": 83,
      "outputs": [
        {
          "output_type": "execute_result",
          "data": {
            "text/plain": [
              "RNNLearner(data=TextClasDataBunch;\n",
              "\n",
              "Train: LabelList (503 items)\n",
              "x: TextList\n",
              "xxbos xxmaj the product shall be able to delete room equipment .,xxbos xxmaj the product shall process messages within 2 seconds . xxmaj the product shall have a maximum xxunk processing time of 2 seconds,xxbos xxmaj the product shall be easy to learn by xxmaj adjusters and xxmaj collision xxmaj estimators . xxmaj the product shall be xxunk with two days xxunk training,xxbos xxmaj the product shall be updated on a xxunk basis . xxmaj the product will have a new major feature introduced every six months and xxunk maintenance releases every six months .,xxbos xxmaj the streaming server will support a maximum of xxunk movies ; new servers can be added to support more movies .\n",
              "y: CategoryList\n",
              "Functional Requirement,Performance,Usability,Maintainability,Scalability\n",
              "Path: .;\n",
              "\n",
              "Valid: LabelList (168 items)\n",
              "x: TextList\n",
              "xxbos xxmaj the   xxunk   system   shall   be   scalable   to   support   unlimited   xxunk   in   the   number   of   employees .  ,xxbos xxmaj all authorized users once xxunk must be able to logon to the xxmaj disputes xxmaj system,xxbos xxmaj system shall let administrator add / remove movies on the website in under 5 minutes . xxmaj entered movie information will be stored in the database and will xxunk be available on the website .,xxbos xxmaj the website shall not be offensive to xxunk or xxunk xxunk .,xxbos xxmaj the estimator shall xxunk selected recycled parts to the collision estimate .\n",
              "y: CategoryList\n",
              "Scalability,Security,Performance,Look and feel,Functional Requirement\n",
              "Path: .;\n",
              "\n",
              "Test: None, model=SequentialRNN(\n",
              "  (0): MultiBatchEncoder(\n",
              "    (module): AWD_LSTM(\n",
              "      (encoder): Embedding(888, 400, padding_idx=1)\n",
              "      (encoder_dp): EmbeddingDropout(\n",
              "        (emb): Embedding(888, 400, padding_idx=1)\n",
              "      )\n",
              "      (rnns): ModuleList(\n",
              "        (0): WeightDropout(\n",
              "          (module): LSTM(400, 1152, batch_first=True)\n",
              "        )\n",
              "        (1): WeightDropout(\n",
              "          (module): LSTM(1152, 1152, batch_first=True)\n",
              "        )\n",
              "        (2): WeightDropout(\n",
              "          (module): LSTM(1152, 400, batch_first=True)\n",
              "        )\n",
              "      )\n",
              "      (input_dp): RNNDropout()\n",
              "      (hidden_dps): ModuleList(\n",
              "        (0): RNNDropout()\n",
              "        (1): RNNDropout()\n",
              "        (2): RNNDropout()\n",
              "      )\n",
              "    )\n",
              "  )\n",
              "  (1): PoolingLinearClassifier(\n",
              "    (layers): Sequential(\n",
              "      (0): BatchNorm1d(1200, eps=1e-05, momentum=0.1, affine=True, track_running_stats=True)\n",
              "      (1): Dropout(p=0.2, inplace=False)\n",
              "      (2): Linear(in_features=1200, out_features=50, bias=True)\n",
              "      (3): ReLU(inplace=True)\n",
              "      (4): BatchNorm1d(50, eps=1e-05, momentum=0.1, affine=True, track_running_stats=True)\n",
              "      (5): Dropout(p=0.1, inplace=False)\n",
              "      (6): Linear(in_features=50, out_features=13, bias=True)\n",
              "    )\n",
              "  )\n",
              "), opt_func=functools.partial(<class 'torch.optim.adam.Adam'>, betas=(0.9, 0.99)), loss_func=FlattenedLoss of CrossEntropyLoss(), metrics=[<function accuracy at 0x7ff1b2ba9bf8>], true_wd=True, bn_wd=True, wd=0.01, train_bn=True, path=PosixPath('.'), model_dir='models', callback_fns=[functools.partial(<class 'fastai.basic_train.Recorder'>, add_time=True, silent=False)], callbacks=[RNNTrainer\n",
              "learn: RNNLearner(data=TextClasDataBunch;\n",
              "\n",
              "Train: LabelList (503 items)\n",
              "x: TextList\n",
              "xxbos xxmaj the product shall be able to delete room equipment .,xxbos xxmaj the product shall process messages within 2 seconds . xxmaj the product shall have a maximum xxunk processing time of 2 seconds,xxbos xxmaj the product shall be easy to learn by xxmaj adjusters and xxmaj collision xxmaj estimators . xxmaj the product shall be xxunk with two days xxunk training,xxbos xxmaj the product shall be updated on a xxunk basis . xxmaj the product will have a new major feature introduced every six months and xxunk maintenance releases every six months .,xxbos xxmaj the streaming server will support a maximum of xxunk movies ; new servers can be added to support more movies .\n",
              "y: CategoryList\n",
              "Functional Requirement,Performance,Usability,Maintainability,Scalability\n",
              "Path: .;\n",
              "\n",
              "Valid: LabelList (168 items)\n",
              "x: TextList\n",
              "xxbos xxmaj the   xxunk   system   shall   be   scalable   to   support   unlimited   xxunk   in   the   number   of   employees .  ,xxbos xxmaj all authorized users once xxunk must be able to logon to the xxmaj disputes xxmaj system,xxbos xxmaj system shall let administrator add / remove movies on the website in under 5 minutes . xxmaj entered movie information will be stored in the database and will xxunk be available on the website .,xxbos xxmaj the website shall not be offensive to xxunk or xxunk xxunk .,xxbos xxmaj the estimator shall xxunk selected recycled parts to the collision estimate .\n",
              "y: CategoryList\n",
              "Scalability,Security,Performance,Look and feel,Functional Requirement\n",
              "Path: .;\n",
              "\n",
              "Test: None, model=SequentialRNN(\n",
              "  (0): MultiBatchEncoder(\n",
              "    (module): AWD_LSTM(\n",
              "      (encoder): Embedding(888, 400, padding_idx=1)\n",
              "      (encoder_dp): EmbeddingDropout(\n",
              "        (emb): Embedding(888, 400, padding_idx=1)\n",
              "      )\n",
              "      (rnns): ModuleList(\n",
              "        (0): WeightDropout(\n",
              "          (module): LSTM(400, 1152, batch_first=True)\n",
              "        )\n",
              "        (1): WeightDropout(\n",
              "          (module): LSTM(1152, 1152, batch_first=True)\n",
              "        )\n",
              "        (2): WeightDropout(\n",
              "          (module): LSTM(1152, 400, batch_first=True)\n",
              "        )\n",
              "      )\n",
              "      (input_dp): RNNDropout()\n",
              "      (hidden_dps): ModuleList(\n",
              "        (0): RNNDropout()\n",
              "        (1): RNNDropout()\n",
              "        (2): RNNDropout()\n",
              "      )\n",
              "    )\n",
              "  )\n",
              "  (1): PoolingLinearClassifier(\n",
              "    (layers): Sequential(\n",
              "      (0): BatchNorm1d(1200, eps=1e-05, momentum=0.1, affine=True, track_running_stats=True)\n",
              "      (1): Dropout(p=0.2, inplace=False)\n",
              "      (2): Linear(in_features=1200, out_features=50, bias=True)\n",
              "      (3): ReLU(inplace=True)\n",
              "      (4): BatchNorm1d(50, eps=1e-05, momentum=0.1, affine=True, track_running_stats=True)\n",
              "      (5): Dropout(p=0.1, inplace=False)\n",
              "      (6): Linear(in_features=50, out_features=13, bias=True)\n",
              "    )\n",
              "  )\n",
              "), opt_func=functools.partial(<class 'torch.optim.adam.Adam'>, betas=(0.9, 0.99)), loss_func=FlattenedLoss of CrossEntropyLoss(), metrics=[<function accuracy at 0x7ff1b2ba9bf8>], true_wd=True, bn_wd=True, wd=0.01, train_bn=True, path=PosixPath('.'), model_dir='models', callback_fns=[functools.partial(<class 'fastai.basic_train.Recorder'>, add_time=True, silent=False)], callbacks=[...], layer_groups=[Sequential(\n",
              "  (0): Embedding(888, 400, padding_idx=1)\n",
              "  (1): EmbeddingDropout(\n",
              "    (emb): Embedding(888, 400, padding_idx=1)\n",
              "  )\n",
              "), Sequential(\n",
              "  (0): WeightDropout(\n",
              "    (module): LSTM(400, 1152, batch_first=True)\n",
              "  )\n",
              "  (1): RNNDropout()\n",
              "), Sequential(\n",
              "  (0): WeightDropout(\n",
              "    (module): LSTM(1152, 1152, batch_first=True)\n",
              "  )\n",
              "  (1): RNNDropout()\n",
              "), Sequential(\n",
              "  (0): WeightDropout(\n",
              "    (module): LSTM(1152, 400, batch_first=True)\n",
              "  )\n",
              "  (1): RNNDropout()\n",
              "), Sequential(\n",
              "  (0): PoolingLinearClassifier(\n",
              "    (layers): Sequential(\n",
              "      (0): BatchNorm1d(1200, eps=1e-05, momentum=0.1, affine=True, track_running_stats=True)\n",
              "      (1): Dropout(p=0.2, inplace=False)\n",
              "      (2): Linear(in_features=1200, out_features=50, bias=True)\n",
              "      (3): ReLU(inplace=True)\n",
              "      (4): BatchNorm1d(50, eps=1e-05, momentum=0.1, affine=True, track_running_stats=True)\n",
              "      (5): Dropout(p=0.1, inplace=False)\n",
              "      (6): Linear(in_features=50, out_features=13, bias=True)\n",
              "    )\n",
              "  )\n",
              ")], add_time=True, silent=False)\n",
              "alpha: 2.0\n",
              "beta: 1.0], layer_groups=[Sequential(\n",
              "  (0): Embedding(888, 400, padding_idx=1)\n",
              "  (1): EmbeddingDropout(\n",
              "    (emb): Embedding(888, 400, padding_idx=1)\n",
              "  )\n",
              "), Sequential(\n",
              "  (0): WeightDropout(\n",
              "    (module): LSTM(400, 1152, batch_first=True)\n",
              "  )\n",
              "  (1): RNNDropout()\n",
              "), Sequential(\n",
              "  (0): WeightDropout(\n",
              "    (module): LSTM(1152, 1152, batch_first=True)\n",
              "  )\n",
              "  (1): RNNDropout()\n",
              "), Sequential(\n",
              "  (0): WeightDropout(\n",
              "    (module): LSTM(1152, 400, batch_first=True)\n",
              "  )\n",
              "  (1): RNNDropout()\n",
              "), Sequential(\n",
              "  (0): PoolingLinearClassifier(\n",
              "    (layers): Sequential(\n",
              "      (0): BatchNorm1d(1200, eps=1e-05, momentum=0.1, affine=True, track_running_stats=True)\n",
              "      (1): Dropout(p=0.2, inplace=False)\n",
              "      (2): Linear(in_features=1200, out_features=50, bias=True)\n",
              "      (3): ReLU(inplace=True)\n",
              "      (4): BatchNorm1d(50, eps=1e-05, momentum=0.1, affine=True, track_running_stats=True)\n",
              "      (5): Dropout(p=0.1, inplace=False)\n",
              "      (6): Linear(in_features=50, out_features=13, bias=True)\n",
              "    )\n",
              "  )\n",
              ")], add_time=True, silent=False)"
            ]
          },
          "metadata": {
            "tags": []
          },
          "execution_count": 83
        }
      ]
    },
    {
      "cell_type": "code",
      "metadata": {
        "id": "F-bhffw_C9RY",
        "colab_type": "code",
        "outputId": "daef1c4b-0f5d-4032-d797-6d680163fde7",
        "colab": {
          "base_uri": "https://localhost:8080/",
          "height": 34
        }
      },
      "source": [
        "classifier.lr_find()"
      ],
      "execution_count": 84,
      "outputs": [
        {
          "output_type": "display_data",
          "data": {
            "text/html": [
              ""
            ],
            "text/plain": [
              "<IPython.core.display.HTML object>"
            ]
          },
          "metadata": {
            "tags": []
          }
        },
        {
          "output_type": "stream",
          "text": [
            "LR Finder is complete, type {learner_name}.recorder.plot() to see the graph.\n"
          ],
          "name": "stdout"
        }
      ]
    },
    {
      "cell_type": "code",
      "metadata": {
        "id": "iRG7haMDC9PR",
        "colab_type": "code",
        "outputId": "73f6edf1-0433-4cb7-d4ee-29288adb860c",
        "colab": {
          "base_uri": "https://localhost:8080/",
          "height": 279
        }
      },
      "source": [
        "classifier.recorder.plot()"
      ],
      "execution_count": 85,
      "outputs": [
        {
          "output_type": "display_data",
          "data": {
            "image/png": "[encoded data removed]",
            "text/plain": [
              "<Figure size 432x288 with 1 Axes>"
            ]
          },
          "metadata": {
            "tags": []
          }
        }
      ]
    },
    {
      "cell_type": "code",
      "metadata": {
        "id": "ysZL8G5SC9Nt",
        "colab_type": "code",
        "outputId": "5b855530-3d75-4fe5-c96c-7e09c0b2fa1a",
        "colab": {
          "base_uri": "https://localhost:8080/",
          "height": 359
        }
      },
      "source": [
        "classifier.fit_one_cycle(10,1e-02,moms=(0.8,0.7))"
      ],
      "execution_count": 87,
      "outputs": [
        {
          "output_type": "display_data",
          "data": {
            "text/html": [
              "<table border=\"1\" class=\"dataframe\">\n",
              "  <thead>\n",
              "    <tr style=\"text-align: left;\">\n",
              "      <th>epoch</th>\n",
              "      <th>train_loss</th>\n",
              "      <th>valid_loss</th>\n",
              "      <th>accuracy</th>\n",
              "      <th>time</th>\n",
              "    </tr>\n",
              "  </thead>\n",
              "  <tbody>\n",
              "    <tr>\n",
              "      <td>0</td>\n",
              "      <td>1.565257</td>\n",
              "      <td>1.873286</td>\n",
              "      <td>0.511905</td>\n",
              "      <td>00:01</td>\n",
              "    </tr>\n",
              "    <tr>\n",
              "      <td>1</td>\n",
              "      <td>1.434081</td>\n",
              "      <td>1.356318</td>\n",
              "      <td>0.636905</td>\n",
              "      <td>00:01</td>\n",
              "    </tr>\n",
              "    <tr>\n",
              "      <td>2</td>\n",
              "      <td>1.300997</td>\n",
              "      <td>1.284443</td>\n",
              "      <td>0.619048</td>\n",
              "      <td>00:01</td>\n",
              "    </tr>\n",
              "    <tr>\n",
              "      <td>3</td>\n",
              "      <td>1.200732</td>\n",
              "      <td>1.100204</td>\n",
              "      <td>0.672619</td>\n",
              "      <td>00:01</td>\n",
              "    </tr>\n",
              "    <tr>\n",
              "      <td>4</td>\n",
              "      <td>1.098529</td>\n",
              "      <td>1.136446</td>\n",
              "      <td>0.648810</td>\n",
              "      <td>00:01</td>\n",
              "    </tr>\n",
              "    <tr>\n",
              "      <td>5</td>\n",
              "      <td>0.997648</td>\n",
              "      <td>1.079473</td>\n",
              "      <td>0.660714</td>\n",
              "      <td>00:01</td>\n",
              "    </tr>\n",
              "    <tr>\n",
              "      <td>6</td>\n",
              "      <td>0.876622</td>\n",
              "      <td>1.021863</td>\n",
              "      <td>0.690476</td>\n",
              "      <td>00:01</td>\n",
              "    </tr>\n",
              "    <tr>\n",
              "      <td>7</td>\n",
              "      <td>0.781782</td>\n",
              "      <td>1.038655</td>\n",
              "      <td>0.690476</td>\n",
              "      <td>00:01</td>\n",
              "    </tr>\n",
              "    <tr>\n",
              "      <td>8</td>\n",
              "      <td>0.716790</td>\n",
              "      <td>1.024388</td>\n",
              "      <td>0.696429</td>\n",
              "      <td>00:01</td>\n",
              "    </tr>\n",
              "    <tr>\n",
              "      <td>9</td>\n",
              "      <td>0.664936</td>\n",
              "      <td>1.023676</td>\n",
              "      <td>0.696429</td>\n",
              "      <td>00:01</td>\n",
              "    </tr>\n",
              "  </tbody>\n",
              "</table>"
            ],
            "text/plain": [
              "<IPython.core.display.HTML object>"
            ]
          },
          "metadata": {
            "tags": []
          }
        }
      ]
    },
    {
      "cell_type": "code",
      "metadata": {
        "id": "k8Qtb3iKJNMe",
        "colab_type": "code",
        "outputId": "c040fa66-d92b-4d06-c4a6-ae0b5aa8365c",
        "colab": {
          "base_uri": "https://localhost:8080/",
          "height": 279
        }
      },
      "source": [
        "classifier.recorder.plot_losses()"
      ],
      "execution_count": 88,
      "outputs": [
        {
          "output_type": "display_data",
          "data": {
            "image/png": "[encoded data removed]",
            "text/plain": [
              "<Figure size 432x288 with 1 Axes>"
            ]
          },
          "metadata": {
            "tags": []
          }
        }
      ]
    },
    {
      "cell_type": "code",
      "metadata": {
        "id": "7RHqrn63C9Hn",
        "colab_type": "code",
        "colab": {}
      },
      "source": [
        "#### The loss curve seems going down smoothly "
      ],
      "execution_count": 0,
      "outputs": []
    },
    {
      "cell_type": "markdown",
      "metadata": {
        "id": "_HPi3V3-HfSv",
        "colab_type": "text"
      },
      "source": [
        "Deep Learning Hyper-parameter Tuning Techniques"
      ]
    },
    {
      "cell_type": "code",
      "metadata": {
        "id": "N1Dky8vUGYg_",
        "colab_type": "code",
        "outputId": "6fc95036-b7db-4cef-d911-e793a70e1739",
        "colab": {
          "base_uri": "https://localhost:8080/",
          "height": 34
        }
      },
      "source": [
        "learn.lr_range(slice(1e-5,1e-3))"
      ],
      "execution_count": 90,
      "outputs": [
        {
          "output_type": "execute_result",
          "data": {
            "text/plain": [
              "array([1.000000e-05, 4.641589e-05, 2.154435e-04, 1.000000e-03])"
            ]
          },
          "metadata": {
            "tags": []
          },
          "execution_count": 90
        }
      ]
    },
    {
      "cell_type": "code",
      "metadata": {
        "id": "M6u0IlHFNtAl",
        "colab_type": "code",
        "colab": {}
      },
      "source": [
        "#learn.lr_range(slice(1e-3))"
      ],
      "execution_count": 0,
      "outputs": []
    },
    {
      "cell_type": "code",
      "metadata": {
        "id": "7q_S5iN0Hq_p",
        "colab_type": "code",
        "outputId": "3f24f4e0-5357-4e24-979e-fd229c721291",
        "colab": {
          "base_uri": "https://localhost:8080/",
          "height": 279
        }
      },
      "source": [
        "learn.recorder.plot_lr(show_moms=True)"
      ],
      "execution_count": 92,
      "outputs": [
        {
          "output_type": "display_data",
          "data": {
            "image/png": "[encoded data removed]",
            "text/plain": [
              "<Figure size 864x288 with 2 Axes>"
            ]
          },
          "metadata": {
            "tags": []
          }
        }
      ]
    },
    {
      "cell_type": "code",
      "metadata": {
        "id": "RynyXGLZGYe6",
        "colab_type": "code",
        "outputId": "9434e049-677b-4c91-c465-0b441ab2fbe6",
        "colab": {
          "base_uri": "https://localhost:8080/",
          "height": 359
        }
      },
      "source": [
        "classifier.freeze_to(-10)\n",
        "classifier.fit_one_cycle(10,slice(5e-3/10.,5e-3),moms=(0.7,0.3))"
      ],
      "execution_count": 94,
      "outputs": [
        {
          "output_type": "display_data",
          "data": {
            "text/html": [
              "<table border=\"1\" class=\"dataframe\">\n",
              "  <thead>\n",
              "    <tr style=\"text-align: left;\">\n",
              "      <th>epoch</th>\n",
              "      <th>train_loss</th>\n",
              "      <th>valid_loss</th>\n",
              "      <th>accuracy</th>\n",
              "      <th>time</th>\n",
              "    </tr>\n",
              "  </thead>\n",
              "  <tbody>\n",
              "    <tr>\n",
              "      <td>0</td>\n",
              "      <td>0.457639</td>\n",
              "      <td>1.020028</td>\n",
              "      <td>0.684524</td>\n",
              "      <td>00:02</td>\n",
              "    </tr>\n",
              "    <tr>\n",
              "      <td>1</td>\n",
              "      <td>0.401006</td>\n",
              "      <td>1.054424</td>\n",
              "      <td>0.678571</td>\n",
              "      <td>00:02</td>\n",
              "    </tr>\n",
              "    <tr>\n",
              "      <td>2</td>\n",
              "      <td>0.411394</td>\n",
              "      <td>1.189832</td>\n",
              "      <td>0.678571</td>\n",
              "      <td>00:02</td>\n",
              "    </tr>\n",
              "    <tr>\n",
              "      <td>3</td>\n",
              "      <td>0.366447</td>\n",
              "      <td>1.062062</td>\n",
              "      <td>0.702381</td>\n",
              "      <td>00:02</td>\n",
              "    </tr>\n",
              "    <tr>\n",
              "      <td>4</td>\n",
              "      <td>0.312642</td>\n",
              "      <td>1.016482</td>\n",
              "      <td>0.714286</td>\n",
              "      <td>00:02</td>\n",
              "    </tr>\n",
              "    <tr>\n",
              "      <td>5</td>\n",
              "      <td>0.257207</td>\n",
              "      <td>0.922095</td>\n",
              "      <td>0.714286</td>\n",
              "      <td>00:02</td>\n",
              "    </tr>\n",
              "    <tr>\n",
              "      <td>6</td>\n",
              "      <td>0.202380</td>\n",
              "      <td>0.902888</td>\n",
              "      <td>0.738095</td>\n",
              "      <td>00:02</td>\n",
              "    </tr>\n",
              "    <tr>\n",
              "      <td>7</td>\n",
              "      <td>0.165848</td>\n",
              "      <td>0.918493</td>\n",
              "      <td>0.744048</td>\n",
              "      <td>00:03</td>\n",
              "    </tr>\n",
              "    <tr>\n",
              "      <td>8</td>\n",
              "      <td>0.132216</td>\n",
              "      <td>0.908304</td>\n",
              "      <td>0.744048</td>\n",
              "      <td>00:02</td>\n",
              "    </tr>\n",
              "    <tr>\n",
              "      <td>9</td>\n",
              "      <td>0.108500</td>\n",
              "      <td>0.909127</td>\n",
              "      <td>0.744048</td>\n",
              "      <td>00:02</td>\n",
              "    </tr>\n",
              "  </tbody>\n",
              "</table>"
            ],
            "text/plain": [
              "<IPython.core.display.HTML object>"
            ]
          },
          "metadata": {
            "tags": []
          }
        }
      ]
    },
    {
      "cell_type": "code",
      "metadata": {
        "id": "o156Tc5uGYdo",
        "colab_type": "code",
        "outputId": "a0410cb0-27cd-42ee-aeeb-26af6c2f5b7e",
        "colab": {
          "base_uri": "https://localhost:8080/",
          "height": 359
        }
      },
      "source": [
        "classifier.unfreeze()\n",
        "classifier.fit_one_cycle(10,slice(5e-3/100.,5e-3),moms=(0.5,0.2))"
      ],
      "execution_count": 96,
      "outputs": [
        {
          "output_type": "display_data",
          "data": {
            "text/html": [
              "<table border=\"1\" class=\"dataframe\">\n",
              "  <thead>\n",
              "    <tr style=\"text-align: left;\">\n",
              "      <th>epoch</th>\n",
              "      <th>train_loss</th>\n",
              "      <th>valid_loss</th>\n",
              "      <th>accuracy</th>\n",
              "      <th>time</th>\n",
              "    </tr>\n",
              "  </thead>\n",
              "  <tbody>\n",
              "    <tr>\n",
              "      <td>0</td>\n",
              "      <td>0.042365</td>\n",
              "      <td>0.909662</td>\n",
              "      <td>0.750000</td>\n",
              "      <td>00:02</td>\n",
              "    </tr>\n",
              "    <tr>\n",
              "      <td>1</td>\n",
              "      <td>0.049750</td>\n",
              "      <td>0.962244</td>\n",
              "      <td>0.744048</td>\n",
              "      <td>00:02</td>\n",
              "    </tr>\n",
              "    <tr>\n",
              "      <td>2</td>\n",
              "      <td>0.056070</td>\n",
              "      <td>1.106964</td>\n",
              "      <td>0.738095</td>\n",
              "      <td>00:02</td>\n",
              "    </tr>\n",
              "    <tr>\n",
              "      <td>3</td>\n",
              "      <td>0.062585</td>\n",
              "      <td>1.102504</td>\n",
              "      <td>0.726190</td>\n",
              "      <td>00:03</td>\n",
              "    </tr>\n",
              "    <tr>\n",
              "      <td>4</td>\n",
              "      <td>0.061396</td>\n",
              "      <td>1.133511</td>\n",
              "      <td>0.738095</td>\n",
              "      <td>00:02</td>\n",
              "    </tr>\n",
              "    <tr>\n",
              "      <td>5</td>\n",
              "      <td>0.066114</td>\n",
              "      <td>1.125554</td>\n",
              "      <td>0.750000</td>\n",
              "      <td>00:02</td>\n",
              "    </tr>\n",
              "    <tr>\n",
              "      <td>6</td>\n",
              "      <td>0.060398</td>\n",
              "      <td>1.043427</td>\n",
              "      <td>0.767857</td>\n",
              "      <td>00:02</td>\n",
              "    </tr>\n",
              "    <tr>\n",
              "      <td>7</td>\n",
              "      <td>0.050132</td>\n",
              "      <td>1.045799</td>\n",
              "      <td>0.755952</td>\n",
              "      <td>00:02</td>\n",
              "    </tr>\n",
              "    <tr>\n",
              "      <td>8</td>\n",
              "      <td>0.043929</td>\n",
              "      <td>1.055248</td>\n",
              "      <td>0.755952</td>\n",
              "      <td>00:02</td>\n",
              "    </tr>\n",
              "    <tr>\n",
              "      <td>9</td>\n",
              "      <td>0.037344</td>\n",
              "      <td>1.035131</td>\n",
              "      <td>0.761905</td>\n",
              "      <td>00:02</td>\n",
              "    </tr>\n",
              "  </tbody>\n",
              "</table>"
            ],
            "text/plain": [
              "<IPython.core.display.HTML object>"
            ]
          },
          "metadata": {
            "tags": []
          }
        }
      ]
    },
    {
      "cell_type": "code",
      "metadata": {
        "id": "us9y4HKiGYbK",
        "colab_type": "code",
        "colab": {}
      },
      "source": [
        "from fastai.vision import * "
      ],
      "execution_count": 0,
      "outputs": []
    },
    {
      "cell_type": "code",
      "metadata": {
        "id": "5tU98V6hGX_K",
        "colab_type": "code",
        "outputId": "5061c2f4-e77f-465a-ca19-4430d44d9b70",
        "colab": {
          "base_uri": "https://localhost:8080/",
          "height": 34
        }
      },
      "source": [
        "preds,y,losses=classifier.get_preds(with_loss=True)\n",
        "inter=ClassificationInterpretation(classifier,preds,y,losses)\n",
        "inter"
      ],
      "execution_count": 98,
      "outputs": [
        {
          "output_type": "display_data",
          "data": {
            "text/html": [
              ""
            ],
            "text/plain": [
              "<IPython.core.display.HTML object>"
            ]
          },
          "metadata": {
            "tags": []
          }
        },
        {
          "output_type": "execute_result",
          "data": {
            "text/plain": [
              "<fastai.train.ClassificationInterpretation at 0x7ff1424cacc0>"
            ]
          },
          "metadata": {
            "tags": []
          },
          "execution_count": 98
        }
      ]
    },
    {
      "cell_type": "code",
      "metadata": {
        "id": "PDPGhqjLUSOi",
        "colab_type": "code",
        "colab": {
          "base_uri": "https://localhost:8080/",
          "height": 311
        },
        "outputId": "c2a883b8-b136-4211-e5e3-279a06fb6537"
      },
      "source": [
        "inter.plot_confusion_matrix()"
      ],
      "execution_count": 99,
      "outputs": [
        {
          "output_type": "display_data",
          "data": {
            "image/png": "[encoded data removed]",
            "text/plain": [
              "<Figure size 432x288 with 1 Axes>"
            ]
          },
          "metadata": {
            "tags": []
          }
        }
      ]
    },
    {
      "cell_type": "code",
      "metadata": {
        "id": "GN-AA5MCdkVA",
        "colab_type": "code",
        "outputId": "64b4da43-fca9-4849-e426-6670aa2d709f",
        "colab": {
          "base_uri": "https://localhost:8080/",
          "height": 102
        }
      },
      "source": [
        "classifier.predict(\"The product shall ensure that it can only be accessed by authorized users.  The product will be able to distinguish between authorized and unauthorized users in all access attempts\")"
      ],
      "execution_count": 100,
      "outputs": [
        {
          "output_type": "execute_result",
          "data": {
            "text/plain": [
              "(Category Security,\n",
              " tensor(11),\n",
              " tensor([8.7580e-06, 4.1378e-04, 1.4163e-04, 3.2923e-06, 3.6066e-06, 2.5548e-05,\n",
              "         5.6724e-05, 1.6703e-04, 1.8960e-04, 4.6811e-05, 1.4753e-05, 9.9893e-01,\n",
              "         7.5338e-07]))"
            ]
          },
          "metadata": {
            "tags": []
          },
          "execution_count": 100
        }
      ]
    },
    {
      "cell_type": "code",
      "metadata": {
        "id": "B0XDcVPGVReS",
        "colab_type": "code",
        "colab": {
          "base_uri": "https://localhost:8080/",
          "height": 102
        },
        "outputId": "5252b969-e841-4cb1-cae1-8f9d5489d844"
      },
      "source": [
        "#Usability\n",
        "classifier.predict(\" If projected  the data must be readable.  On a 10x10 projection screen  90% of viewers must be able to read Event / Activity data from a viewing distance of 30\")"
      ],
      "execution_count": 101,
      "outputs": [
        {
          "output_type": "execute_result",
          "data": {
            "text/plain": [
              "(Category Usability,\n",
              " tensor(12),\n",
              " tensor([2.8123e-07, 2.7260e-07, 1.2805e-06, 3.9022e-06, 3.2634e-08, 5.2421e-06,\n",
              "         9.4978e-08, 4.9769e-08, 1.8504e-05, 9.7860e-08, 2.0746e-08, 9.7281e-06,\n",
              "         9.9996e-01]))"
            ]
          },
          "metadata": {
            "tags": []
          },
          "execution_count": 101
        }
      ]
    },
    {
      "cell_type": "code",
      "metadata": {
        "id": "fJgjC9hB2oYo",
        "colab_type": "code",
        "colab": {
          "base_uri": "https://localhost:8080/",
          "height": 102
        },
        "outputId": "7e0f07f7-ac21-4ad1-bd23-f10131278bb3"
      },
      "source": [
        "#Functional requirement\n",
        "classifier.predict(\"The system shall display Events or Activities.\")"
      ],
      "execution_count": 102,
      "outputs": [
        {
          "output_type": "execute_result",
          "data": {
            "text/plain": [
              "(Category Functional Requirement,\n",
              " tensor(3),\n",
              " tensor([1.2601e-05, 2.2597e-07, 2.1980e-06, 9.9990e-01, 9.5480e-06, 1.6276e-05,\n",
              "         7.8888e-07, 3.8131e-05, 2.6189e-06, 9.3091e-06, 2.8759e-06, 3.1786e-07,\n",
              "         2.4241e-06]))"
            ]
          },
          "metadata": {
            "tags": []
          },
          "execution_count": 102
        }
      ]
    },
    {
      "cell_type": "code",
      "metadata": {
        "id": "mSki8QOF215U",
        "colab_type": "code",
        "colab": {
          "base_uri": "https://localhost:8080/",
          "height": 102
        },
        "outputId": "db94b128-b43e-460d-c938-bdacd4612e23"
      },
      "source": [
        "# perfomance\n",
        "classifier.predict(\"The response time of general student management tasks shall take no longer than 5 seconds and the response time of schedule generation shall take no longer than 30 seconds.\")"
      ],
      "execution_count": 103,
      "outputs": [
        {
          "output_type": "execute_result",
          "data": {
            "text/plain": [
              "(Category Performance,\n",
              " tensor(8),\n",
              " tensor([3.9651e-06, 1.5192e-06, 2.0569e-07, 2.8610e-07, 1.1857e-06, 5.0125e-08,\n",
              "         7.4306e-07, 8.3871e-09, 9.9999e-01, 3.0199e-08, 4.9212e-06, 2.0424e-07,\n",
              "         5.9050e-08]))"
            ]
          },
          "metadata": {
            "tags": []
          },
          "execution_count": 103
        }
      ]
    },
    {
      "cell_type": "code",
      "metadata": {
        "id": "7EATKH_B3E7c",
        "colab_type": "code",
        "colab": {
          "base_uri": "https://localhost:8080/",
          "height": 102
        },
        "outputId": "463f9b4e-7635-4107-b3c3-70bb061f9a52"
      },
      "source": [
        "# fr\n",
        "classifier.predict(\" The system shall be able to display a printable summary for individual cohorts  which will include the students enlisted  the Program of study  sequence of classes  cohort progress through the program  and timeline of completion.\")"
      ],
      "execution_count": 104,
      "outputs": [
        {
          "output_type": "execute_result",
          "data": {
            "text/plain": [
              "(Category Functional Requirement,\n",
              " tensor(3),\n",
              " tensor([1.7788e-05, 4.8280e-07, 2.6849e-06, 9.9992e-01, 9.8865e-06, 8.5635e-06,\n",
              "         1.3522e-06, 7.1374e-07, 1.2492e-05, 4.7981e-06, 8.0511e-06, 1.0360e-06,\n",
              "         8.2411e-06]))"
            ]
          },
          "metadata": {
            "tags": []
          },
          "execution_count": 104
        }
      ]
    },
    {
      "cell_type": "code",
      "metadata": {
        "id": "jHvyIoNS3k3F",
        "colab_type": "code",
        "colab": {
          "base_uri": "https://localhost:8080/",
          "height": 102
        },
        "outputId": "47c3ac37-079b-43dc-9c53-d2440299eb5b"
      },
      "source": [
        "#operational\n",
        "classifier.predict(\"The Disputes application shall interface with the Cardmember Information Database.  The Cardmember Information Database provides detailed information with regard to a cardmember.  All cardmember detail information must be obtained from the Cardmember Information Database.\")"
      ],
      "execution_count": 105,
      "outputs": [
        {
          "output_type": "execute_result",
          "data": {
            "text/plain": [
              "(Category Operational,\n",
              " tensor(7),\n",
              " tensor([4.8072e-04, 5.5957e-06, 7.3428e-05, 7.5004e-05, 5.3526e-03, 1.2159e-02,\n",
              "         2.4786e-04, 9.6995e-01, 1.0521e-05, 3.5577e-03, 4.7456e-05, 7.9762e-03,\n",
              "         6.7832e-05]))"
            ]
          },
          "metadata": {
            "tags": []
          },
          "execution_count": 105
        }
      ]
    },
    {
      "cell_type": "code",
      "metadata": {
        "id": "qnGl7e3R3vaw",
        "colab_type": "code",
        "colab": {
          "base_uri": "https://localhost:8080/",
          "height": 102
        },
        "outputId": "6c58e387-aed4-4797-8af1-9353e8c47e74"
      },
      "source": [
        "\n",
        "#security\n",
        "classifier.predict('The Disputes System shall generate a User Report that details any new users that have been added and any changes to an existing user?s access level.  The report will be reviewed for auditing purposes.')"
      ],
      "execution_count": 106,
      "outputs": [
        {
          "output_type": "execute_result",
          "data": {
            "text/plain": [
              "(Category Functional Requirement,\n",
              " tensor(3),\n",
              " tensor([1.5015e-05, 1.6784e-05, 9.1102e-06, 9.9913e-01, 6.9847e-05, 5.2427e-05,\n",
              "         5.7050e-05, 6.5160e-06, 2.6965e-04, 8.4030e-06, 6.5373e-05, 5.9880e-05,\n",
              "         2.3571e-04]))"
            ]
          },
          "metadata": {
            "tags": []
          },
          "execution_count": 106
        }
      ]
    },
    {
      "cell_type": "code",
      "metadata": {
        "id": "bB960CyG4Ao_",
        "colab_type": "code",
        "colab": {
          "base_uri": "https://localhost:8080/",
          "height": 102
        },
        "outputId": "a1bc67ef-0a61-43d6-d8a1-134dac9a4654"
      },
      "source": [
        "#legal\n",
        "classifier.predict(\"The Disputes application must conform to the legal requirements as specified by Regulation E and Regulation Z that govern credit card disputes processing.\")"
      ],
      "execution_count": 107,
      "outputs": [
        {
          "output_type": "execute_result",
          "data": {
            "text/plain": [
              "(Category Legal,\n",
              " tensor(4),\n",
              " tensor([9.6012e-09, 2.5558e-07, 8.3689e-07, 2.5548e-07, 9.9998e-01, 2.6286e-07,\n",
              "         1.0625e-06, 2.0969e-06, 3.0973e-06, 1.7545e-06, 1.6748e-06, 4.2636e-06,\n",
              "         2.1736e-06]))"
            ]
          },
          "metadata": {
            "tags": []
          },
          "execution_count": 107
        }
      ]
    },
    {
      "cell_type": "code",
      "metadata": {
        "id": "VXQYZMUO4XdX",
        "colab_type": "code",
        "colab": {
          "base_uri": "https://localhost:8080/",
          "height": 102
        },
        "outputId": "66ffa617-5429-4505-8dae-f8eebcf64dbd"
      },
      "source": [
        "#maintainability\n",
        "classifier.predict(\"The product must be designed using Design Patterns and coding best practices.  90% of maintenance software developers are able to integrate new functionality into the product with 2 working days.\")"
      ],
      "execution_count": 108,
      "outputs": [
        {
          "output_type": "execute_result",
          "data": {
            "text/plain": [
              "(Category Maintainability,\n",
              " tensor(6),\n",
              " tensor([1.2117e-03, 7.6135e-04, 1.0208e-04, 8.1273e-06, 2.0649e-04, 1.0392e-04,\n",
              "         9.7685e-01, 5.7289e-03, 1.1856e-03, 1.1018e-03, 9.4825e-04, 6.0105e-05,\n",
              "         1.1729e-02]))"
            ]
          },
          "metadata": {
            "tags": []
          },
          "execution_count": 108
        }
      ]
    },
    {
      "cell_type": "code",
      "metadata": {
        "id": "OLfnbYVJ4kSs",
        "colab_type": "code",
        "colab": {
          "base_uri": "https://localhost:8080/",
          "height": 102
        },
        "outputId": "53b85fca-96a4-4801-9e66-5f1cf044e821"
      },
      "source": [
        "#look and feel\n",
        "classifier.predict(\" The website should have an African feel  but should not alienate non-Africans.  The website should use animation on pages which are describing the services  to grab the users attention and encourage them to sign up.\")"
      ],
      "execution_count": 109,
      "outputs": [
        {
          "output_type": "execute_result",
          "data": {
            "text/plain": [
              "(Category Look and feel,\n",
              " tensor(5),\n",
              " tensor([3.2902e-03, 1.5069e-02, 1.3913e-03, 2.4558e-04, 3.5385e-04, 8.2590e-01,\n",
              "         7.2244e-04, 3.3441e-02, 1.9731e-04, 5.3223e-03, 9.2290e-04, 6.0846e-04,\n",
              "         1.1253e-01]))"
            ]
          },
          "metadata": {
            "tags": []
          },
          "execution_count": 109
        }
      ]
    },
    {
      "cell_type": "code",
      "metadata": {
        "id": "iQ3gsLmL4za6",
        "colab_type": "code",
        "colab": {
          "base_uri": "https://localhost:8080/",
          "height": 102
        },
        "outputId": "7cf13688-80b1-4df4-9770-cfa96b30b84a"
      },
      "source": [
        "#sca\n",
        "classifier.predict(\"The effort needed to administer the payroll system (as measured in hours per month of system administrators’ time)  shall not increase with an increase in the number of employees.\")"
      ],
      "execution_count": 110,
      "outputs": [
        {
          "output_type": "execute_result",
          "data": {
            "text/plain": [
              "(Category Scalability,\n",
              " tensor(10),\n",
              " tensor([1.7886e-04, 1.3536e-04, 3.6976e-05, 1.2909e-04, 7.4384e-05, 3.1076e-05,\n",
              "         4.7349e-05, 2.0380e-06, 2.7146e-05, 2.6077e-05, 9.9899e-01, 2.2615e-04,\n",
              "         9.2154e-05]))"
            ]
          },
          "metadata": {
            "tags": []
          },
          "execution_count": 110
        }
      ]
    },
    {
      "cell_type": "code",
      "metadata": {
        "id": "vT9a_4YY4-la",
        "colab_type": "code",
        "colab": {
          "base_uri": "https://localhost:8080/",
          "height": 102
        },
        "outputId": "63551dbb-27c6-4675-82e4-7e139b98e728"
      },
      "source": [
        "#flexibility\n",
        "classifier.predict(\"No piece of text that might be displayed to a user shall reside in program source code.  Every piece of text that a  user might see must be modifiable without changing source code.  That is, no user?visible text will be “hard?coded.” \")"
      ],
      "execution_count": 111,
      "outputs": [
        {
          "output_type": "execute_result",
          "data": {
            "text/plain": [
              "(Category Security,\n",
              " tensor(11),\n",
              " tensor([4.0268e-04, 2.9821e-03, 1.8272e-02, 6.8670e-04, 5.0340e-03, 5.6134e-03,\n",
              "         2.5806e-02, 1.3391e-04, 1.3123e-03, 5.4655e-03, 8.8600e-04, 9.3226e-01,\n",
              "         1.1427e-03]))"
            ]
          },
          "metadata": {
            "tags": []
          },
          "execution_count": 111
        }
      ]
    },
    {
      "cell_type": "code",
      "metadata": {
        "id": "ot5O7whB5RcT",
        "colab_type": "code",
        "colab": {}
      },
      "source": [
        ""
      ],
      "execution_count": 0,
      "outputs": []
    }
  ]
}