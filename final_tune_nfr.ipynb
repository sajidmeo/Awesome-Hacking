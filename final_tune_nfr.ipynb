{
  "nbformat": 4,
  "nbformat_minor": 0,
  "metadata": {
    "colab": {
      "name": "final_tune_nfr.ipynb",
      "provenance": [],
      "collapsed_sections": [],
      "include_colab_link": true
    },
    "kernelspec": {
      "name": "python3",
      "display_name": "Python 3"
    },
    "accelerator": "GPU"
  },
  "cells": [
    {
      "cell_type": "markdown",
      "metadata": {
        "id": "view-in-github",
        "colab_type": "text"
      },
      "source": [
        "<a href=\"https://colab.research.google.com/github/sajidmeo/Awesome-Hacking/blob/master/final_tune_nfr.ipynb\" target=\"_parent\"><img src=\"https://colab.research.google.com/assets/colab-badge.svg\" alt=\"Open In Colab\"/></a>"
      ]
    },
    {
      "cell_type": "code",
      "metadata": {
        "id": "fiowBDTNdL2L",
        "colab_type": "code",
        "colab": {}
      },
      "source": [
        "# import libraries\n",
        "import fastai\n",
        "from fastai import *\n",
        "from fastai.text import * \n",
        "import pandas as pd\n",
        "import numpy as np\n",
        "from functools import partial\n"
      ],
      "execution_count": 0,
      "outputs": []
    },
    {
      "cell_type": "code",
      "metadata": {
        "id": "85e7eVkjg1px",
        "colab_type": "code",
        "colab": {}
      },
      "source": [
        "\n",
        "#url=\"https://raw.githubusercontent.com/sajidmeo/Datasets/master/Fiverr_data.csv\"\n",
        "url=\"https://raw.githubusercontent.com/sajidmeo/Datasets/master/Fiverr_data1.csv\"\n",
        "\n",
        "df=pd.read_csv(url,names=[\"classified\",\"query\",\"nfr\"] ,encoding='cp1252')"
      ],
      "execution_count": 0,
      "outputs": []
    },
    {
      "cell_type": "code",
      "metadata": {
        "id": "B9ui7kG6mKTS",
        "colab_type": "code",
        "outputId": "5ffb5098-0ed3-4d93-8204-a5a5e062130d",
        "colab": {
          "base_uri": "https://localhost:8080/",
          "height": 419
        }
      },
      "source": [
        "df"
      ],
      "execution_count": 3,
      "outputs": [
        {
          "output_type": "execute_result",
          "data": {
            "text/html": [
              "<div>\n",
              "<style scoped>\n",
              "    .dataframe tbody tr th:only-of-type {\n",
              "        vertical-align: middle;\n",
              "    }\n",
              "\n",
              "    .dataframe tbody tr th {\n",
              "        vertical-align: top;\n",
              "    }\n",
              "\n",
              "    .dataframe thead th {\n",
              "        text-align: right;\n",
              "    }\n",
              "</style>\n",
              "<table border=\"1\" class=\"dataframe\">\n",
              "  <thead>\n",
              "    <tr style=\"text-align: right;\">\n",
              "      <th></th>\n",
              "      <th>classified</th>\n",
              "      <th>query</th>\n",
              "      <th>nfr</th>\n",
              "    </tr>\n",
              "  </thead>\n",
              "  <tbody>\n",
              "    <tr>\n",
              "      <th>0</th>\n",
              "      <td>1</td>\n",
              "      <td>The system shall refresh the display every 60 ...</td>\n",
              "      <td>Performance</td>\n",
              "    </tr>\n",
              "    <tr>\n",
              "      <th>1</th>\n",
              "      <td>1</td>\n",
              "      <td>The application shall match the color of the s...</td>\n",
              "      <td>Look and feel</td>\n",
              "    </tr>\n",
              "    <tr>\n",
              "      <th>2</th>\n",
              "      <td>1</td>\n",
              "      <td>The product shall be available during normal ...</td>\n",
              "      <td>Availability</td>\n",
              "    </tr>\n",
              "    <tr>\n",
              "      <th>3</th>\n",
              "      <td>1</td>\n",
              "      <td>If projected  the data must be understandable...</td>\n",
              "      <td>Usability</td>\n",
              "    </tr>\n",
              "    <tr>\n",
              "      <th>4</th>\n",
              "      <td>1</td>\n",
              "      <td>The product shall ensure that it can only be a...</td>\n",
              "      <td>Security</td>\n",
              "    </tr>\n",
              "    <tr>\n",
              "      <th>...</th>\n",
              "      <td>...</td>\n",
              "      <td>...</td>\n",
              "      <td>...</td>\n",
              "    </tr>\n",
              "    <tr>\n",
              "      <th>666</th>\n",
              "      <td>17</td>\n",
              "      <td>The system shall have the ability to add a new...</td>\n",
              "      <td>Flexibility</td>\n",
              "    </tr>\n",
              "    <tr>\n",
              "      <th>667</th>\n",
              "      <td>16</td>\n",
              "      <td>The elapsed duration of time required to produ...</td>\n",
              "      <td>Scalability</td>\n",
              "    </tr>\n",
              "    <tr>\n",
              "      <th>668</th>\n",
              "      <td>16</td>\n",
              "      <td>The business rules repository shall be scalabl...</td>\n",
              "      <td>Scalability</td>\n",
              "    </tr>\n",
              "    <tr>\n",
              "      <th>669</th>\n",
              "      <td>16</td>\n",
              "      <td>The payroll system shall be scalable to suppor...</td>\n",
              "      <td>Scalability</td>\n",
              "    </tr>\n",
              "    <tr>\n",
              "      <th>670</th>\n",
              "      <td>17</td>\n",
              "      <td>The travel reservation system shall be scalabl...</td>\n",
              "      <td>Scalability</td>\n",
              "    </tr>\n",
              "  </tbody>\n",
              "</table>\n",
              "<p>671 rows × 3 columns</p>\n",
              "</div>"
            ],
            "text/plain": [
              "     classified  ...            nfr\n",
              "0             1  ...    Performance\n",
              "1             1  ...  Look and feel\n",
              "2             1  ...   Availability\n",
              "3             1  ...      Usability\n",
              "4             1  ...       Security\n",
              "..          ...  ...            ...\n",
              "666          17  ...    Flexibility\n",
              "667          16  ...    Scalability\n",
              "668          16  ...    Scalability\n",
              "669          16  ...    Scalability\n",
              "670          17  ...    Scalability\n",
              "\n",
              "[671 rows x 3 columns]"
            ]
          },
          "metadata": {
            "tags": []
          },
          "execution_count": 3
        }
      ]
    },
    {
      "cell_type": "code",
      "metadata": {
        "id": "qUuOG-quhSSf",
        "colab_type": "code",
        "outputId": "f511471f-b8c4-43f1-bb82-e81426ef6e9f",
        "colab": {
          "base_uri": "https://localhost:8080/",
          "height": 34
        }
      },
      "source": [
        "df.shape"
      ],
      "execution_count": 4,
      "outputs": [
        {
          "output_type": "execute_result",
          "data": {
            "text/plain": [
              "(671, 3)"
            ]
          },
          "metadata": {
            "tags": []
          },
          "execution_count": 4
        }
      ]
    },
    {
      "cell_type": "code",
      "metadata": {
        "id": "ZoiNUgN0g2jf",
        "colab_type": "code",
        "colab": {}
      },
      "source": [
        "#df\n",
        "df=pd.DataFrame({'label':df[\"nfr\"], 'text':df[\"query\"]})"
      ],
      "execution_count": 0,
      "outputs": []
    },
    {
      "cell_type": "code",
      "metadata": {
        "id": "1QPbiXWJnuXG",
        "colab_type": "code",
        "outputId": "52f75f4b-7b2d-4470-913e-f503315483f6",
        "colab": {
          "base_uri": "https://localhost:8080/",
          "height": 255
        }
      },
      "source": [
        "df['label'].value_counts()"
      ],
      "execution_count": 6,
      "outputs": [
        {
          "output_type": "execute_result",
          "data": {
            "text/plain": [
              "Functional Requirement    252\n",
              "Security                   77\n",
              "Usability                  74\n",
              "Operational                60\n",
              "Performance                53\n",
              "Look and feel              37\n",
              "Scalability                30\n",
              "Availability               29\n",
              "Maintainability            23\n",
              "Legal                      12\n",
              "Fault tolerance            10\n",
              "Portability                 7\n",
              "Flexibility                 7\n",
              "Name: label, dtype: int64"
            ]
          },
          "metadata": {
            "tags": []
          },
          "execution_count": 6
        }
      ]
    },
    {
      "cell_type": "code",
      "metadata": {
        "id": "qrgQ9xnktAJ0",
        "colab_type": "code",
        "colab": {}
      },
      "source": [
        "# spliting data into train and test\n",
        "from sklearn.model_selection import train_test_split\n",
        "df_trn, df_val = train_test_split(df, stratify = df['label'], test_size = 0.25, random_state = 12)"
      ],
      "execution_count": 0,
      "outputs": []
    },
    {
      "cell_type": "code",
      "metadata": {
        "id": "TCgaq3uQtGFr",
        "colab_type": "code",
        "outputId": "449dfbd9-2d17-4b4d-aa1f-1859b92ae1f5",
        "colab": {
          "base_uri": "https://localhost:8080/",
          "height": 34
        }
      },
      "source": [
        "df_trn.shape, df_val.shape"
      ],
      "execution_count": 8,
      "outputs": [
        {
          "output_type": "execute_result",
          "data": {
            "text/plain": [
              "((503, 2), (168, 2))"
            ]
          },
          "metadata": {
            "tags": []
          },
          "execution_count": 8
        }
      ]
    },
    {
      "cell_type": "code",
      "metadata": {
        "id": "Rx27-RYpXKZm",
        "colab_type": "code",
        "outputId": "6083d121-ea14-4e49-8a40-918060be668d",
        "colab": {
          "base_uri": "https://localhost:8080/",
          "height": 17
        }
      },
      "source": [
        "# Language model data\n",
        "data_lm = TextLMDataBunch.from_df(train_df = df_trn, valid_df = df_val, path = \"\")\n",
        "\n",
        "# Classifier model data\n",
        "data_clas = TextClasDataBunch.from_df(path = \"\", train_df = df_trn, valid_df = df_val, vocab=data_lm.train_ds.vocab, bs=32)"
      ],
      "execution_count": 9,
      "outputs": [
        {
          "output_type": "display_data",
          "data": {
            "text/html": [
              ""
            ],
            "text/plain": [
              "<IPython.core.display.HTML object>"
            ]
          },
          "metadata": {
            "tags": []
          }
        },
        {
          "output_type": "display_data",
          "data": {
            "text/html": [
              ""
            ],
            "text/plain": [
              "<IPython.core.display.HTML object>"
            ]
          },
          "metadata": {
            "tags": []
          }
        },
        {
          "output_type": "display_data",
          "data": {
            "text/html": [
              ""
            ],
            "text/plain": [
              "<IPython.core.display.HTML object>"
            ]
          },
          "metadata": {
            "tags": []
          }
        },
        {
          "output_type": "display_data",
          "data": {
            "text/html": [
              ""
            ],
            "text/plain": [
              "<IPython.core.display.HTML object>"
            ]
          },
          "metadata": {
            "tags": []
          }
        }
      ]
    },
    {
      "cell_type": "code",
      "metadata": {
        "id": "nukTxv585jjg",
        "colab_type": "code",
        "outputId": "3de2027b-8e2e-4d66-ed73-622dae8e618c",
        "colab": {
          "base_uri": "https://localhost:8080/",
          "height": 323
        }
      },
      "source": [
        "data_lm.show_batch()"
      ],
      "execution_count": 10,
      "outputs": [
        {
          "output_type": "display_data",
          "data": {
            "text/html": [
              "<table border=\"1\" class=\"dataframe\">\n",
              "  <thead>\n",
              "    <tr style=\"text-align: right;\">\n",
              "      <th>idx</th>\n",
              "      <th>text</th>\n",
              "    </tr>\n",
              "  </thead>\n",
              "  <tbody>\n",
              "    <tr>\n",
              "      <td>0</td>\n",
              "      <td>be updated on a xxunk basis . xxmaj the product will have a new major feature introduced every six months and xxunk maintenance releases every six months . xxbos xxmaj the streaming server will support a maximum of xxunk movies ; new servers can be added to support more movies . xxbos a xxunk database will be used to store xxunk statistics and data . xxbos xxmaj the product shall</td>\n",
              "    </tr>\n",
              "    <tr>\n",
              "      <td>1</td>\n",
              "      <td>language   when    entering   their   personal   information .   xxbos xxmaj an xxunk survey will show that 95 % of customers are xxunk using and xxunk pre - paid cards after a month of using the system . xxbos xxmaj the interface shall be appealing to callers and supervisors . xxmaj in the interface and usability survey 80 % of beta testers must report</td>\n",
              "    </tr>\n",
              "    <tr>\n",
              "      <td>2</td>\n",
              "      <td>lab section xxunk to the same clinical class . xxbos a non - clinical class shall specify the course name lecture room requirements and instructor needs . xxbos xxmaj the process must fit within the processing time conditions set forth by the xxmaj xxunk xxmaj xxunk xxmaj assignment process in which a lead is assigned within 3 minutes of the total xxunk cycle . xxbos xxmaj the product shall adhere</td>\n",
              "    </tr>\n",
              "    <tr>\n",
              "      <td>3</td>\n",
              "      <td>able   to   use   the   product .    xxbos xxmaj the xxmaj disputes xxmaj system will provide the user the ability to create or initiate a ticket retrieval request . xxmaj as part of ticket retrieval creation process the system must prompt the user to enter all the required information to create the ticket retrieval request . xxmaj the ticket retrieval request is a document</td>\n",
              "    </tr>\n",
              "    <tr>\n",
              "      <td>4</td>\n",
              "      <td>is   xxunk ,   the   system   shall   xxunk   a   user   with   notification   xxunk   them   that   the    system   is   unavailable . xxbos xxmaj the product must comply with xxmaj xxunk - xxmaj xxunk . xxbos xxmaj the system shall have high availability every day of the year . xxmaj the system must be available for</td>\n",
              "    </tr>\n",
              "  </tbody>\n",
              "</table>"
            ],
            "text/plain": [
              "<IPython.core.display.HTML object>"
            ]
          },
          "metadata": {
            "tags": []
          }
        }
      ]
    },
    {
      "cell_type": "code",
      "metadata": {
        "id": "QAcH7oqz6Pmj",
        "colab_type": "code",
        "outputId": "230f491e-9da7-4b44-8e65-9b578784c83c",
        "colab": {
          "base_uri": "https://localhost:8080/",
          "height": 272
        }
      },
      "source": [
        "data_lm.vocab.itos[:15]"
      ],
      "execution_count": 11,
      "outputs": [
        {
          "output_type": "execute_result",
          "data": {
            "text/plain": [
              "['xxunk',\n",
              " 'xxpad',\n",
              " 'xxbos',\n",
              " 'xxeos',\n",
              " 'xxfld',\n",
              " 'xxmaj',\n",
              " 'xxup',\n",
              " 'xxrep',\n",
              " 'xxwrep',\n",
              " 'the',\n",
              " '\\xa0',\n",
              " '.',\n",
              " 'shall',\n",
              " 'to',\n",
              " 'of']"
            ]
          },
          "metadata": {
            "tags": []
          },
          "execution_count": 11
        }
      ]
    },
    {
      "cell_type": "code",
      "metadata": {
        "id": "yt5XVRlIZDQ7",
        "colab_type": "code",
        "outputId": "766ece74-dce8-4878-8510-845c28965232",
        "colab": {
          "base_uri": "https://localhost:8080/",
          "height": 34
        }
      },
      "source": [
        "learn = language_model_learner(data_lm, AWD_LSTM, drop_mult=0.5)\n",
        "# Language model\n",
        "#learner = language_model_learner(data_lm, pretrained_model=URLs.WT103_1, drop_mult=0.5)"
      ],
      "execution_count": 12,
      "outputs": [
        {
          "output_type": "stream",
          "text": [
            "Downloading https://s3.amazonaws.com/fast-ai-modelzoo/wt103-fwd\n"
          ],
          "name": "stdout"
        },
        {
          "output_type": "display_data",
          "data": {
            "text/html": [
              ""
            ],
            "text/plain": [
              "<IPython.core.display.HTML object>"
            ]
          },
          "metadata": {
            "tags": []
          }
        }
      ]
    },
    {
      "cell_type": "code",
      "metadata": {
        "id": "TmvVNpMF82XT",
        "colab_type": "code",
        "outputId": "58279a4d-9946-4fcd-f66a-1266d67b1ab3",
        "colab": {
          "base_uri": "https://localhost:8080/",
          "height": 34
        }
      },
      "source": [
        "learn.lr_find()"
      ],
      "execution_count": 13,
      "outputs": [
        {
          "output_type": "display_data",
          "data": {
            "text/html": [
              ""
            ],
            "text/plain": [
              "<IPython.core.display.HTML object>"
            ]
          },
          "metadata": {
            "tags": []
          }
        },
        {
          "output_type": "stream",
          "text": [
            "LR Finder is complete, type {learner_name}.recorder.plot() to see the graph.\n"
          ],
          "name": "stdout"
        }
      ]
    },
    {
      "cell_type": "code",
      "metadata": {
        "id": "QBRdcv_yBy9b",
        "colab_type": "code",
        "outputId": "4a8b8565-eb0d-4758-dd94-0d6b8ecd9bb4",
        "colab": {
          "base_uri": "https://localhost:8080/",
          "height": 279
        }
      },
      "source": [
        "# loss vs learning rate\n",
        "learn.recorder.plot()"
      ],
      "execution_count": 14,
      "outputs": [
        {
          "output_type": "display_data",
          "data": {
            "image/png": "[encoded data removed]",
            "text/plain": [
              "<Figure size 432x288 with 1 Axes>"
            ]
          },
          "metadata": {
            "tags": []
          }
        }
      ]
    },
    {
      "cell_type": "code",
      "metadata": {
        "id": "LBggQ46j818B",
        "colab_type": "code",
        "outputId": "5790bdc0-5420-48cd-9ada-1b6fc73e138c",
        "colab": {
          "base_uri": "https://localhost:8080/",
          "height": 514
        }
      },
      "source": [
        "# train the learner object with learning rate = 1e-01\n",
        "learn.fit_one_cycle(15, 1e-01)"
      ],
      "execution_count": 15,
      "outputs": [
        {
          "output_type": "display_data",
          "data": {
            "text/html": [
              "<table border=\"1\" class=\"dataframe\">\n",
              "  <thead>\n",
              "    <tr style=\"text-align: left;\">\n",
              "      <th>epoch</th>\n",
              "      <th>train_loss</th>\n",
              "      <th>valid_loss</th>\n",
              "      <th>accuracy</th>\n",
              "      <th>time</th>\n",
              "    </tr>\n",
              "  </thead>\n",
              "  <tbody>\n",
              "    <tr>\n",
              "      <td>0</td>\n",
              "      <td>5.287890</td>\n",
              "      <td>4.706004</td>\n",
              "      <td>0.283705</td>\n",
              "      <td>00:01</td>\n",
              "    </tr>\n",
              "    <tr>\n",
              "      <td>1</td>\n",
              "      <td>4.785061</td>\n",
              "      <td>3.756432</td>\n",
              "      <td>0.286607</td>\n",
              "      <td>00:01</td>\n",
              "    </tr>\n",
              "    <tr>\n",
              "      <td>2</td>\n",
              "      <td>4.214342</td>\n",
              "      <td>2.967497</td>\n",
              "      <td>0.379018</td>\n",
              "      <td>00:01</td>\n",
              "    </tr>\n",
              "    <tr>\n",
              "      <td>3</td>\n",
              "      <td>3.714859</td>\n",
              "      <td>2.998947</td>\n",
              "      <td>0.404911</td>\n",
              "      <td>00:01</td>\n",
              "    </tr>\n",
              "    <tr>\n",
              "      <td>4</td>\n",
              "      <td>3.303046</td>\n",
              "      <td>2.934620</td>\n",
              "      <td>0.434152</td>\n",
              "      <td>00:01</td>\n",
              "    </tr>\n",
              "    <tr>\n",
              "      <td>5</td>\n",
              "      <td>2.964940</td>\n",
              "      <td>2.977040</td>\n",
              "      <td>0.431250</td>\n",
              "      <td>00:01</td>\n",
              "    </tr>\n",
              "    <tr>\n",
              "      <td>6</td>\n",
              "      <td>2.682097</td>\n",
              "      <td>2.988847</td>\n",
              "      <td>0.453348</td>\n",
              "      <td>00:01</td>\n",
              "    </tr>\n",
              "    <tr>\n",
              "      <td>7</td>\n",
              "      <td>2.448636</td>\n",
              "      <td>3.058493</td>\n",
              "      <td>0.451116</td>\n",
              "      <td>00:01</td>\n",
              "    </tr>\n",
              "    <tr>\n",
              "      <td>8</td>\n",
              "      <td>2.252656</td>\n",
              "      <td>3.053391</td>\n",
              "      <td>0.457589</td>\n",
              "      <td>00:01</td>\n",
              "    </tr>\n",
              "    <tr>\n",
              "      <td>9</td>\n",
              "      <td>2.088221</td>\n",
              "      <td>3.072308</td>\n",
              "      <td>0.456250</td>\n",
              "      <td>00:01</td>\n",
              "    </tr>\n",
              "    <tr>\n",
              "      <td>10</td>\n",
              "      <td>1.944874</td>\n",
              "      <td>3.139344</td>\n",
              "      <td>0.457366</td>\n",
              "      <td>00:01</td>\n",
              "    </tr>\n",
              "    <tr>\n",
              "      <td>11</td>\n",
              "      <td>1.826774</td>\n",
              "      <td>3.138392</td>\n",
              "      <td>0.457812</td>\n",
              "      <td>00:01</td>\n",
              "    </tr>\n",
              "    <tr>\n",
              "      <td>12</td>\n",
              "      <td>1.736139</td>\n",
              "      <td>3.138505</td>\n",
              "      <td>0.456473</td>\n",
              "      <td>00:01</td>\n",
              "    </tr>\n",
              "    <tr>\n",
              "      <td>13</td>\n",
              "      <td>1.643806</td>\n",
              "      <td>3.107903</td>\n",
              "      <td>0.464509</td>\n",
              "      <td>00:01</td>\n",
              "    </tr>\n",
              "    <tr>\n",
              "      <td>14</td>\n",
              "      <td>1.566480</td>\n",
              "      <td>3.128032</td>\n",
              "      <td>0.460268</td>\n",
              "      <td>00:01</td>\n",
              "    </tr>\n",
              "  </tbody>\n",
              "</table>"
            ],
            "text/plain": [
              "<IPython.core.display.HTML object>"
            ]
          },
          "metadata": {
            "tags": []
          }
        }
      ]
    },
    {
      "cell_type": "code",
      "metadata": {
        "id": "qkxKBT4fAr-L",
        "colab_type": "code",
        "outputId": "a2bf661f-aec3-462f-85bf-a19a29fb6918",
        "colab": {
          "base_uri": "https://localhost:8080/",
          "height": 359
        }
      },
      "source": [
        "learn.unfreeze()\n",
        "learn.fit_one_cycle(10, 1e-3)\n",
        "\n",
        "\n"
      ],
      "execution_count": 16,
      "outputs": [
        {
          "output_type": "display_data",
          "data": {
            "text/html": [
              "<table border=\"1\" class=\"dataframe\">\n",
              "  <thead>\n",
              "    <tr style=\"text-align: left;\">\n",
              "      <th>epoch</th>\n",
              "      <th>train_loss</th>\n",
              "      <th>valid_loss</th>\n",
              "      <th>accuracy</th>\n",
              "      <th>time</th>\n",
              "    </tr>\n",
              "  </thead>\n",
              "  <tbody>\n",
              "    <tr>\n",
              "      <td>0</td>\n",
              "      <td>0.904118</td>\n",
              "      <td>3.146467</td>\n",
              "      <td>0.465179</td>\n",
              "      <td>00:01</td>\n",
              "    </tr>\n",
              "    <tr>\n",
              "      <td>1</td>\n",
              "      <td>0.887602</td>\n",
              "      <td>3.125211</td>\n",
              "      <td>0.467857</td>\n",
              "      <td>00:01</td>\n",
              "    </tr>\n",
              "    <tr>\n",
              "      <td>2</td>\n",
              "      <td>0.880277</td>\n",
              "      <td>3.170005</td>\n",
              "      <td>0.459598</td>\n",
              "      <td>00:01</td>\n",
              "    </tr>\n",
              "    <tr>\n",
              "      <td>3</td>\n",
              "      <td>0.835123</td>\n",
              "      <td>3.145588</td>\n",
              "      <td>0.475223</td>\n",
              "      <td>00:01</td>\n",
              "    </tr>\n",
              "    <tr>\n",
              "      <td>4</td>\n",
              "      <td>0.828838</td>\n",
              "      <td>3.218286</td>\n",
              "      <td>0.464732</td>\n",
              "      <td>00:01</td>\n",
              "    </tr>\n",
              "    <tr>\n",
              "      <td>5</td>\n",
              "      <td>0.784953</td>\n",
              "      <td>3.317379</td>\n",
              "      <td>0.460938</td>\n",
              "      <td>00:01</td>\n",
              "    </tr>\n",
              "    <tr>\n",
              "      <td>6</td>\n",
              "      <td>0.756307</td>\n",
              "      <td>3.210788</td>\n",
              "      <td>0.469866</td>\n",
              "      <td>00:01</td>\n",
              "    </tr>\n",
              "    <tr>\n",
              "      <td>7</td>\n",
              "      <td>0.722839</td>\n",
              "      <td>3.246891</td>\n",
              "      <td>0.465848</td>\n",
              "      <td>00:01</td>\n",
              "    </tr>\n",
              "    <tr>\n",
              "      <td>8</td>\n",
              "      <td>0.698242</td>\n",
              "      <td>3.260875</td>\n",
              "      <td>0.466518</td>\n",
              "      <td>00:01</td>\n",
              "    </tr>\n",
              "    <tr>\n",
              "      <td>9</td>\n",
              "      <td>0.677945</td>\n",
              "      <td>3.251563</td>\n",
              "      <td>0.468080</td>\n",
              "      <td>00:01</td>\n",
              "    </tr>\n",
              "  </tbody>\n",
              "</table>"
            ],
            "text/plain": [
              "<IPython.core.display.HTML object>"
            ]
          },
          "metadata": {
            "tags": []
          }
        }
      ]
    },
    {
      "cell_type": "code",
      "metadata": {
        "id": "cOtMgEopArxC",
        "colab_type": "code",
        "outputId": "9dd9ec30-d717-4238-f087-6ab4d3723e5f",
        "colab": {
          "base_uri": "https://localhost:8080/",
          "height": 34
        }
      },
      "source": [
        "learn.predict(\"this is movie of\",n_words=5)"
      ],
      "execution_count": 17,
      "outputs": [
        {
          "output_type": "execute_result",
          "data": {
            "text/plain": [
              "'this is movie of the day due to 11:00'"
            ]
          },
          "metadata": {
            "tags": []
          },
          "execution_count": 17
        }
      ]
    },
    {
      "cell_type": "code",
      "metadata": {
        "id": "NMNn8K2jArvM",
        "colab_type": "code",
        "colab": {}
      },
      "source": [
        "learn.save_encoder('fine_enc')"
      ],
      "execution_count": 0,
      "outputs": []
    },
    {
      "cell_type": "code",
      "metadata": {
        "id": "rrFpKKyCArrw",
        "colab_type": "code",
        "outputId": "1f1a1ac4-6101-4e28-8b5f-afe215476a1c",
        "colab": {
          "base_uri": "https://localhost:8080/",
          "height": 17
        }
      },
      "source": [
        "# Classifier model data\n",
        "data_clas = TextClasDataBunch.from_df('./', train_df=df_trn, valid_df=df_val, vocab=data_lm.train_ds.vocab, bs=32)"
      ],
      "execution_count": 19,
      "outputs": [
        {
          "output_type": "display_data",
          "data": {
            "text/html": [
              ""
            ],
            "text/plain": [
              "<IPython.core.display.HTML object>"
            ]
          },
          "metadata": {
            "tags": []
          }
        },
        {
          "output_type": "display_data",
          "data": {
            "text/html": [
              ""
            ],
            "text/plain": [
              "<IPython.core.display.HTML object>"
            ]
          },
          "metadata": {
            "tags": []
          }
        }
      ]
    },
    {
      "cell_type": "code",
      "metadata": {
        "id": "yyGItVnyC9Vl",
        "colab_type": "code",
        "outputId": "89e07c2d-27c4-4a1d-a7f3-537491c0b39b",
        "colab": {
          "base_uri": "https://localhost:8080/",
          "height": 1000
        }
      },
      "source": [
        "# Classifier\n",
        "classifier = text_classifier_learner(data_clas,AWD_LSTM, drop_mult=0.5)\n",
        "classifier.load_encoder('fine_enc')"
      ],
      "execution_count": 20,
      "outputs": [
        {
          "output_type": "execute_result",
          "data": {
            "text/plain": [
              "RNNLearner(data=TextClasDataBunch;\n",
              "\n",
              "Train: LabelList (503 items)\n",
              "x: TextList\n",
              "xxbos xxmaj the product shall be able to delete room equipment .,xxbos xxmaj the product shall process messages within 2 seconds . xxmaj the product shall have a maximum xxunk processing time of 2 seconds,xxbos xxmaj the product shall be easy to learn by xxmaj adjusters and xxmaj collision xxmaj estimators . xxmaj the product shall be xxunk with two days xxunk training,xxbos xxmaj the product shall be updated on a xxunk basis . xxmaj the product will have a new major feature introduced every six months and xxunk maintenance releases every six months .,xxbos xxmaj the streaming server will support a maximum of xxunk movies ; new servers can be added to support more movies .\n",
              "y: CategoryList\n",
              "Functional Requirement,Performance,Usability,Maintainability,Scalability\n",
              "Path: .;\n",
              "\n",
              "Valid: LabelList (168 items)\n",
              "x: TextList\n",
              "xxbos xxmaj the   xxunk   system   shall   be   scalable   to   support   unlimited   xxunk   in   the   number   of   employees .  ,xxbos xxmaj all authorized users once xxunk must be able to logon to the xxmaj disputes xxmaj system,xxbos xxmaj system shall let administrator add / remove movies on the website in under 5 minutes . xxmaj entered movie information will be stored in the database and will xxunk be available on the website .,xxbos xxmaj the website shall not be offensive to xxunk or xxunk xxunk .,xxbos xxmaj the estimator shall xxunk selected recycled parts to the collision estimate .\n",
              "y: CategoryList\n",
              "Scalability,Security,Performance,Look and feel,Functional Requirement\n",
              "Path: .;\n",
              "\n",
              "Test: None, model=SequentialRNN(\n",
              "  (0): MultiBatchEncoder(\n",
              "    (module): AWD_LSTM(\n",
              "      (encoder): Embedding(888, 400, padding_idx=1)\n",
              "      (encoder_dp): EmbeddingDropout(\n",
              "        (emb): Embedding(888, 400, padding_idx=1)\n",
              "      )\n",
              "      (rnns): ModuleList(\n",
              "        (0): WeightDropout(\n",
              "          (module): LSTM(400, 1152, batch_first=True)\n",
              "        )\n",
              "        (1): WeightDropout(\n",
              "          (module): LSTM(1152, 1152, batch_first=True)\n",
              "        )\n",
              "        (2): WeightDropout(\n",
              "          (module): LSTM(1152, 400, batch_first=True)\n",
              "        )\n",
              "      )\n",
              "      (input_dp): RNNDropout()\n",
              "      (hidden_dps): ModuleList(\n",
              "        (0): RNNDropout()\n",
              "        (1): RNNDropout()\n",
              "        (2): RNNDropout()\n",
              "      )\n",
              "    )\n",
              "  )\n",
              "  (1): PoolingLinearClassifier(\n",
              "    (layers): Sequential(\n",
              "      (0): BatchNorm1d(1200, eps=1e-05, momentum=0.1, affine=True, track_running_stats=True)\n",
              "      (1): Dropout(p=0.2, inplace=False)\n",
              "      (2): Linear(in_features=1200, out_features=50, bias=True)\n",
              "      (3): ReLU(inplace=True)\n",
              "      (4): BatchNorm1d(50, eps=1e-05, momentum=0.1, affine=True, track_running_stats=True)\n",
              "      (5): Dropout(p=0.1, inplace=False)\n",
              "      (6): Linear(in_features=50, out_features=13, bias=True)\n",
              "    )\n",
              "  )\n",
              "), opt_func=functools.partial(<class 'torch.optim.adam.Adam'>, betas=(0.9, 0.99)), loss_func=FlattenedLoss of CrossEntropyLoss(), metrics=[<function accuracy at 0x7f9466b80488>], true_wd=True, bn_wd=True, wd=0.01, train_bn=True, path=PosixPath('.'), model_dir='models', callback_fns=[functools.partial(<class 'fastai.basic_train.Recorder'>, add_time=True, silent=False)], callbacks=[RNNTrainer\n",
              "learn: RNNLearner(data=TextClasDataBunch;\n",
              "\n",
              "Train: LabelList (503 items)\n",
              "x: TextList\n",
              "xxbos xxmaj the product shall be able to delete room equipment .,xxbos xxmaj the product shall process messages within 2 seconds . xxmaj the product shall have a maximum xxunk processing time of 2 seconds,xxbos xxmaj the product shall be easy to learn by xxmaj adjusters and xxmaj collision xxmaj estimators . xxmaj the product shall be xxunk with two days xxunk training,xxbos xxmaj the product shall be updated on a xxunk basis . xxmaj the product will have a new major feature introduced every six months and xxunk maintenance releases every six months .,xxbos xxmaj the streaming server will support a maximum of xxunk movies ; new servers can be added to support more movies .\n",
              "y: CategoryList\n",
              "Functional Requirement,Performance,Usability,Maintainability,Scalability\n",
              "Path: .;\n",
              "\n",
              "Valid: LabelList (168 items)\n",
              "x: TextList\n",
              "xxbos xxmaj the   xxunk   system   shall   be   scalable   to   support   unlimited   xxunk   in   the   number   of   employees .  ,xxbos xxmaj all authorized users once xxunk must be able to logon to the xxmaj disputes xxmaj system,xxbos xxmaj system shall let administrator add / remove movies on the website in under 5 minutes . xxmaj entered movie information will be stored in the database and will xxunk be available on the website .,xxbos xxmaj the website shall not be offensive to xxunk or xxunk xxunk .,xxbos xxmaj the estimator shall xxunk selected recycled parts to the collision estimate .\n",
              "y: CategoryList\n",
              "Scalability,Security,Performance,Look and feel,Functional Requirement\n",
              "Path: .;\n",
              "\n",
              "Test: None, model=SequentialRNN(\n",
              "  (0): MultiBatchEncoder(\n",
              "    (module): AWD_LSTM(\n",
              "      (encoder): Embedding(888, 400, padding_idx=1)\n",
              "      (encoder_dp): EmbeddingDropout(\n",
              "        (emb): Embedding(888, 400, padding_idx=1)\n",
              "      )\n",
              "      (rnns): ModuleList(\n",
              "        (0): WeightDropout(\n",
              "          (module): LSTM(400, 1152, batch_first=True)\n",
              "        )\n",
              "        (1): WeightDropout(\n",
              "          (module): LSTM(1152, 1152, batch_first=True)\n",
              "        )\n",
              "        (2): WeightDropout(\n",
              "          (module): LSTM(1152, 400, batch_first=True)\n",
              "        )\n",
              "      )\n",
              "      (input_dp): RNNDropout()\n",
              "      (hidden_dps): ModuleList(\n",
              "        (0): RNNDropout()\n",
              "        (1): RNNDropout()\n",
              "        (2): RNNDropout()\n",
              "      )\n",
              "    )\n",
              "  )\n",
              "  (1): PoolingLinearClassifier(\n",
              "    (layers): Sequential(\n",
              "      (0): BatchNorm1d(1200, eps=1e-05, momentum=0.1, affine=True, track_running_stats=True)\n",
              "      (1): Dropout(p=0.2, inplace=False)\n",
              "      (2): Linear(in_features=1200, out_features=50, bias=True)\n",
              "      (3): ReLU(inplace=True)\n",
              "      (4): BatchNorm1d(50, eps=1e-05, momentum=0.1, affine=True, track_running_stats=True)\n",
              "      (5): Dropout(p=0.1, inplace=False)\n",
              "      (6): Linear(in_features=50, out_features=13, bias=True)\n",
              "    )\n",
              "  )\n",
              "), opt_func=functools.partial(<class 'torch.optim.adam.Adam'>, betas=(0.9, 0.99)), loss_func=FlattenedLoss of CrossEntropyLoss(), metrics=[<function accuracy at 0x7f9466b80488>], true_wd=True, bn_wd=True, wd=0.01, train_bn=True, path=PosixPath('.'), model_dir='models', callback_fns=[functools.partial(<class 'fastai.basic_train.Recorder'>, add_time=True, silent=False)], callbacks=[...], layer_groups=[Sequential(\n",
              "  (0): Embedding(888, 400, padding_idx=1)\n",
              "  (1): EmbeddingDropout(\n",
              "    (emb): Embedding(888, 400, padding_idx=1)\n",
              "  )\n",
              "), Sequential(\n",
              "  (0): WeightDropout(\n",
              "    (module): LSTM(400, 1152, batch_first=True)\n",
              "  )\n",
              "  (1): RNNDropout()\n",
              "), Sequential(\n",
              "  (0): WeightDropout(\n",
              "    (module): LSTM(1152, 1152, batch_first=True)\n",
              "  )\n",
              "  (1): RNNDropout()\n",
              "), Sequential(\n",
              "  (0): WeightDropout(\n",
              "    (module): LSTM(1152, 400, batch_first=True)\n",
              "  )\n",
              "  (1): RNNDropout()\n",
              "), Sequential(\n",
              "  (0): PoolingLinearClassifier(\n",
              "    (layers): Sequential(\n",
              "      (0): BatchNorm1d(1200, eps=1e-05, momentum=0.1, affine=True, track_running_stats=True)\n",
              "      (1): Dropout(p=0.2, inplace=False)\n",
              "      (2): Linear(in_features=1200, out_features=50, bias=True)\n",
              "      (3): ReLU(inplace=True)\n",
              "      (4): BatchNorm1d(50, eps=1e-05, momentum=0.1, affine=True, track_running_stats=True)\n",
              "      (5): Dropout(p=0.1, inplace=False)\n",
              "      (6): Linear(in_features=50, out_features=13, bias=True)\n",
              "    )\n",
              "  )\n",
              ")], add_time=True, silent=False)\n",
              "alpha: 2.0\n",
              "beta: 1.0], layer_groups=[Sequential(\n",
              "  (0): Embedding(888, 400, padding_idx=1)\n",
              "  (1): EmbeddingDropout(\n",
              "    (emb): Embedding(888, 400, padding_idx=1)\n",
              "  )\n",
              "), Sequential(\n",
              "  (0): WeightDropout(\n",
              "    (module): LSTM(400, 1152, batch_first=True)\n",
              "  )\n",
              "  (1): RNNDropout()\n",
              "), Sequential(\n",
              "  (0): WeightDropout(\n",
              "    (module): LSTM(1152, 1152, batch_first=True)\n",
              "  )\n",
              "  (1): RNNDropout()\n",
              "), Sequential(\n",
              "  (0): WeightDropout(\n",
              "    (module): LSTM(1152, 400, batch_first=True)\n",
              "  )\n",
              "  (1): RNNDropout()\n",
              "), Sequential(\n",
              "  (0): PoolingLinearClassifier(\n",
              "    (layers): Sequential(\n",
              "      (0): BatchNorm1d(1200, eps=1e-05, momentum=0.1, affine=True, track_running_stats=True)\n",
              "      (1): Dropout(p=0.2, inplace=False)\n",
              "      (2): Linear(in_features=1200, out_features=50, bias=True)\n",
              "      (3): ReLU(inplace=True)\n",
              "      (4): BatchNorm1d(50, eps=1e-05, momentum=0.1, affine=True, track_running_stats=True)\n",
              "      (5): Dropout(p=0.1, inplace=False)\n",
              "      (6): Linear(in_features=50, out_features=13, bias=True)\n",
              "    )\n",
              "  )\n",
              ")], add_time=True, silent=False)"
            ]
          },
          "metadata": {
            "tags": []
          },
          "execution_count": 20
        }
      ]
    },
    {
      "cell_type": "code",
      "metadata": {
        "id": "F-bhffw_C9RY",
        "colab_type": "code",
        "outputId": "8b7d4e00-ac5d-4121-88bf-ef8ee643544d",
        "colab": {
          "base_uri": "https://localhost:8080/",
          "height": 34
        }
      },
      "source": [
        "classifier.lr_find()"
      ],
      "execution_count": 21,
      "outputs": [
        {
          "output_type": "display_data",
          "data": {
            "text/html": [
              ""
            ],
            "text/plain": [
              "<IPython.core.display.HTML object>"
            ]
          },
          "metadata": {
            "tags": []
          }
        },
        {
          "output_type": "stream",
          "text": [
            "LR Finder is complete, type {learner_name}.recorder.plot() to see the graph.\n"
          ],
          "name": "stdout"
        }
      ]
    },
    {
      "cell_type": "code",
      "metadata": {
        "id": "iRG7haMDC9PR",
        "colab_type": "code",
        "outputId": "7c7c7a6e-18ec-483d-a7ad-aefa0a89842c",
        "colab": {
          "base_uri": "https://localhost:8080/",
          "height": 279
        }
      },
      "source": [
        "classifier.recorder.plot()"
      ],
      "execution_count": 22,
      "outputs": [
        {
          "output_type": "display_data",
          "data": {
            "image/png": "[encoded data removed]",
            "text/plain": [
              "<Figure size 432x288 with 1 Axes>"
            ]
          },
          "metadata": {
            "tags": []
          }
        }
      ]
    },
    {
      "cell_type": "code",
      "metadata": {
        "id": "ysZL8G5SC9Nt",
        "colab_type": "code",
        "outputId": "709c9d1a-5a25-4e10-99be-d7c12b7c8ab2",
        "colab": {
          "base_uri": "https://localhost:8080/",
          "height": 359
        }
      },
      "source": [
        "classifier.fit_one_cycle(10,1e-02,moms=(0.8,0.7))"
      ],
      "execution_count": 23,
      "outputs": [
        {
          "output_type": "display_data",
          "data": {
            "text/html": [
              "<table border=\"1\" class=\"dataframe\">\n",
              "  <thead>\n",
              "    <tr style=\"text-align: left;\">\n",
              "      <th>epoch</th>\n",
              "      <th>train_loss</th>\n",
              "      <th>valid_loss</th>\n",
              "      <th>accuracy</th>\n",
              "      <th>time</th>\n",
              "    </tr>\n",
              "  </thead>\n",
              "  <tbody>\n",
              "    <tr>\n",
              "      <td>0</td>\n",
              "      <td>2.451294</td>\n",
              "      <td>2.230604</td>\n",
              "      <td>0.511905</td>\n",
              "      <td>00:01</td>\n",
              "    </tr>\n",
              "    <tr>\n",
              "      <td>1</td>\n",
              "      <td>1.968009</td>\n",
              "      <td>1.521669</td>\n",
              "      <td>0.601190</td>\n",
              "      <td>00:01</td>\n",
              "    </tr>\n",
              "    <tr>\n",
              "      <td>2</td>\n",
              "      <td>1.657631</td>\n",
              "      <td>1.254111</td>\n",
              "      <td>0.607143</td>\n",
              "      <td>00:01</td>\n",
              "    </tr>\n",
              "    <tr>\n",
              "      <td>3</td>\n",
              "      <td>1.417804</td>\n",
              "      <td>1.189118</td>\n",
              "      <td>0.625000</td>\n",
              "      <td>00:01</td>\n",
              "    </tr>\n",
              "    <tr>\n",
              "      <td>4</td>\n",
              "      <td>1.211949</td>\n",
              "      <td>1.224476</td>\n",
              "      <td>0.654762</td>\n",
              "      <td>00:01</td>\n",
              "    </tr>\n",
              "    <tr>\n",
              "      <td>5</td>\n",
              "      <td>1.039908</td>\n",
              "      <td>1.108947</td>\n",
              "      <td>0.666667</td>\n",
              "      <td>00:01</td>\n",
              "    </tr>\n",
              "    <tr>\n",
              "      <td>6</td>\n",
              "      <td>0.915105</td>\n",
              "      <td>1.164904</td>\n",
              "      <td>0.660714</td>\n",
              "      <td>00:01</td>\n",
              "    </tr>\n",
              "    <tr>\n",
              "      <td>7</td>\n",
              "      <td>0.821662</td>\n",
              "      <td>1.152744</td>\n",
              "      <td>0.672619</td>\n",
              "      <td>00:01</td>\n",
              "    </tr>\n",
              "    <tr>\n",
              "      <td>8</td>\n",
              "      <td>0.729330</td>\n",
              "      <td>1.130512</td>\n",
              "      <td>0.672619</td>\n",
              "      <td>00:01</td>\n",
              "    </tr>\n",
              "    <tr>\n",
              "      <td>9</td>\n",
              "      <td>0.665351</td>\n",
              "      <td>1.104214</td>\n",
              "      <td>0.672619</td>\n",
              "      <td>00:01</td>\n",
              "    </tr>\n",
              "  </tbody>\n",
              "</table>"
            ],
            "text/plain": [
              "<IPython.core.display.HTML object>"
            ]
          },
          "metadata": {
            "tags": []
          }
        }
      ]
    },
    {
      "cell_type": "code",
      "metadata": {
        "id": "k8Qtb3iKJNMe",
        "colab_type": "code",
        "outputId": "fad78d47-61d0-49c6-c194-01554d5d1b0a",
        "colab": {
          "base_uri": "https://localhost:8080/",
          "height": 279
        }
      },
      "source": [
        "classifier.recorder.plot_losses()"
      ],
      "execution_count": 24,
      "outputs": [
        {
          "output_type": "display_data",
          "data": {
            "image/png": "[encoded data removed]",
            "text/plain": [
              "<Figure size 432x288 with 1 Axes>"
            ]
          },
          "metadata": {
            "tags": []
          }
        }
      ]
    },
    {
      "cell_type": "markdown",
      "metadata": {
        "id": "_HPi3V3-HfSv",
        "colab_type": "text"
      },
      "source": [
        "Deep Learning Hyper-parameter Tuning Techniques"
      ]
    },
    {
      "cell_type": "code",
      "metadata": {
        "id": "N1Dky8vUGYg_",
        "colab_type": "code",
        "outputId": "d988e0b9-f85e-441c-bac2-bb027beb4b9a",
        "colab": {
          "base_uri": "https://localhost:8080/",
          "height": 34
        }
      },
      "source": [
        "learn.lr_range(slice(1e-5,1e-3))"
      ],
      "execution_count": 25,
      "outputs": [
        {
          "output_type": "execute_result",
          "data": {
            "text/plain": [
              "array([1.000000e-05, 4.641589e-05, 2.154435e-04, 1.000000e-03])"
            ]
          },
          "metadata": {
            "tags": []
          },
          "execution_count": 25
        }
      ]
    },
    {
      "cell_type": "code",
      "metadata": {
        "id": "7q_S5iN0Hq_p",
        "colab_type": "code",
        "outputId": "9b46ffaa-1f1b-497d-88a7-c3718e0ecd45",
        "colab": {
          "base_uri": "https://localhost:8080/",
          "height": 279
        }
      },
      "source": [
        "learn.recorder.plot_lr(show_moms=True)"
      ],
      "execution_count": 26,
      "outputs": [
        {
          "output_type": "display_data",
          "data": {
            "image/png": "[encoded data removed]",
            "text/plain": [
              "<Figure size 864x288 with 2 Axes>"
            ]
          },
          "metadata": {
            "tags": []
          }
        }
      ]
    },
    {
      "cell_type": "code",
      "metadata": {
        "id": "RynyXGLZGYe6",
        "colab_type": "code",
        "outputId": "7f9de178-fdf5-43ec-ceca-ce2c1f3af82c",
        "colab": {
          "base_uri": "https://localhost:8080/",
          "height": 359
        }
      },
      "source": [
        "classifier.freeze_to(-10)\n",
        "classifier.fit_one_cycle(10,slice(5e-3/10.,5e-3),moms=(0.7,0.3))"
      ],
      "execution_count": 27,
      "outputs": [
        {
          "output_type": "display_data",
          "data": {
            "text/html": [
              "<table border=\"1\" class=\"dataframe\">\n",
              "  <thead>\n",
              "    <tr style=\"text-align: left;\">\n",
              "      <th>epoch</th>\n",
              "      <th>train_loss</th>\n",
              "      <th>valid_loss</th>\n",
              "      <th>accuracy</th>\n",
              "      <th>time</th>\n",
              "    </tr>\n",
              "  </thead>\n",
              "  <tbody>\n",
              "    <tr>\n",
              "      <td>0</td>\n",
              "      <td>0.413267</td>\n",
              "      <td>1.089191</td>\n",
              "      <td>0.684524</td>\n",
              "      <td>00:02</td>\n",
              "    </tr>\n",
              "    <tr>\n",
              "      <td>1</td>\n",
              "      <td>0.457319</td>\n",
              "      <td>1.459060</td>\n",
              "      <td>0.636905</td>\n",
              "      <td>00:02</td>\n",
              "    </tr>\n",
              "    <tr>\n",
              "      <td>2</td>\n",
              "      <td>0.538951</td>\n",
              "      <td>1.212871</td>\n",
              "      <td>0.690476</td>\n",
              "      <td>00:02</td>\n",
              "    </tr>\n",
              "    <tr>\n",
              "      <td>3</td>\n",
              "      <td>0.460618</td>\n",
              "      <td>0.993243</td>\n",
              "      <td>0.726190</td>\n",
              "      <td>00:02</td>\n",
              "    </tr>\n",
              "    <tr>\n",
              "      <td>4</td>\n",
              "      <td>0.390054</td>\n",
              "      <td>1.161351</td>\n",
              "      <td>0.666667</td>\n",
              "      <td>00:02</td>\n",
              "    </tr>\n",
              "    <tr>\n",
              "      <td>5</td>\n",
              "      <td>0.319389</td>\n",
              "      <td>1.066635</td>\n",
              "      <td>0.714286</td>\n",
              "      <td>00:02</td>\n",
              "    </tr>\n",
              "    <tr>\n",
              "      <td>6</td>\n",
              "      <td>0.257238</td>\n",
              "      <td>1.028126</td>\n",
              "      <td>0.732143</td>\n",
              "      <td>00:02</td>\n",
              "    </tr>\n",
              "    <tr>\n",
              "      <td>7</td>\n",
              "      <td>0.205081</td>\n",
              "      <td>1.012035</td>\n",
              "      <td>0.726190</td>\n",
              "      <td>00:02</td>\n",
              "    </tr>\n",
              "    <tr>\n",
              "      <td>8</td>\n",
              "      <td>0.166508</td>\n",
              "      <td>1.007998</td>\n",
              "      <td>0.726190</td>\n",
              "      <td>00:02</td>\n",
              "    </tr>\n",
              "    <tr>\n",
              "      <td>9</td>\n",
              "      <td>0.134325</td>\n",
              "      <td>0.998385</td>\n",
              "      <td>0.726190</td>\n",
              "      <td>00:02</td>\n",
              "    </tr>\n",
              "  </tbody>\n",
              "</table>"
            ],
            "text/plain": [
              "<IPython.core.display.HTML object>"
            ]
          },
          "metadata": {
            "tags": []
          }
        }
      ]
    },
    {
      "cell_type": "code",
      "metadata": {
        "id": "o156Tc5uGYdo",
        "colab_type": "code",
        "outputId": "80a1c4e7-5915-46dc-bc08-4629432ff897",
        "colab": {
          "base_uri": "https://localhost:8080/",
          "height": 359
        }
      },
      "source": [
        "classifier.unfreeze()\n",
        "classifier.fit_one_cycle(10,slice(5e-3/100.,5e-3),moms=(0.5,0.2))"
      ],
      "execution_count": 28,
      "outputs": [
        {
          "output_type": "display_data",
          "data": {
            "text/html": [
              "<table border=\"1\" class=\"dataframe\">\n",
              "  <thead>\n",
              "    <tr style=\"text-align: left;\">\n",
              "      <th>epoch</th>\n",
              "      <th>train_loss</th>\n",
              "      <th>valid_loss</th>\n",
              "      <th>accuracy</th>\n",
              "      <th>time</th>\n",
              "    </tr>\n",
              "  </thead>\n",
              "  <tbody>\n",
              "    <tr>\n",
              "      <td>0</td>\n",
              "      <td>0.054032</td>\n",
              "      <td>0.993214</td>\n",
              "      <td>0.738095</td>\n",
              "      <td>00:03</td>\n",
              "    </tr>\n",
              "    <tr>\n",
              "      <td>1</td>\n",
              "      <td>0.061210</td>\n",
              "      <td>1.135135</td>\n",
              "      <td>0.744048</td>\n",
              "      <td>00:02</td>\n",
              "    </tr>\n",
              "    <tr>\n",
              "      <td>2</td>\n",
              "      <td>0.067178</td>\n",
              "      <td>1.205602</td>\n",
              "      <td>0.726190</td>\n",
              "      <td>00:02</td>\n",
              "    </tr>\n",
              "    <tr>\n",
              "      <td>3</td>\n",
              "      <td>0.089175</td>\n",
              "      <td>1.200624</td>\n",
              "      <td>0.708333</td>\n",
              "      <td>00:02</td>\n",
              "    </tr>\n",
              "    <tr>\n",
              "      <td>4</td>\n",
              "      <td>0.088794</td>\n",
              "      <td>1.150141</td>\n",
              "      <td>0.726190</td>\n",
              "      <td>00:02</td>\n",
              "    </tr>\n",
              "    <tr>\n",
              "      <td>5</td>\n",
              "      <td>0.072750</td>\n",
              "      <td>1.017291</td>\n",
              "      <td>0.744048</td>\n",
              "      <td>00:02</td>\n",
              "    </tr>\n",
              "    <tr>\n",
              "      <td>6</td>\n",
              "      <td>0.064126</td>\n",
              "      <td>0.978383</td>\n",
              "      <td>0.744048</td>\n",
              "      <td>00:02</td>\n",
              "    </tr>\n",
              "    <tr>\n",
              "      <td>7</td>\n",
              "      <td>0.052432</td>\n",
              "      <td>0.949829</td>\n",
              "      <td>0.761905</td>\n",
              "      <td>00:02</td>\n",
              "    </tr>\n",
              "    <tr>\n",
              "      <td>8</td>\n",
              "      <td>0.046910</td>\n",
              "      <td>0.950389</td>\n",
              "      <td>0.750000</td>\n",
              "      <td>00:02</td>\n",
              "    </tr>\n",
              "    <tr>\n",
              "      <td>9</td>\n",
              "      <td>0.044503</td>\n",
              "      <td>0.947294</td>\n",
              "      <td>0.750000</td>\n",
              "      <td>00:02</td>\n",
              "    </tr>\n",
              "  </tbody>\n",
              "</table>"
            ],
            "text/plain": [
              "<IPython.core.display.HTML object>"
            ]
          },
          "metadata": {
            "tags": []
          }
        }
      ]
    },
    {
      "cell_type": "code",
      "metadata": {
        "id": "us9y4HKiGYbK",
        "colab_type": "code",
        "colab": {}
      },
      "source": [
        "from fastai.vision import * "
      ],
      "execution_count": 0,
      "outputs": []
    },
    {
      "cell_type": "code",
      "metadata": {
        "id": "5tU98V6hGX_K",
        "colab_type": "code",
        "outputId": "08f6a79f-1872-4eef-f619-c16793827c51",
        "colab": {
          "base_uri": "https://localhost:8080/",
          "height": 34
        }
      },
      "source": [
        "preds,y,losses=classifier.get_preds(with_loss=True)\n",
        "inter=ClassificationInterpretation(classifier,preds,y,losses)\n",
        "inter"
      ],
      "execution_count": 30,
      "outputs": [
        {
          "output_type": "display_data",
          "data": {
            "text/html": [
              ""
            ],
            "text/plain": [
              "<IPython.core.display.HTML object>"
            ]
          },
          "metadata": {
            "tags": []
          }
        },
        {
          "output_type": "execute_result",
          "data": {
            "text/plain": [
              "<fastai.train.ClassificationInterpretation at 0x7f93f6915860>"
            ]
          },
          "metadata": {
            "tags": []
          },
          "execution_count": 30
        }
      ]
    },
    {
      "cell_type": "code",
      "metadata": {
        "id": "PDPGhqjLUSOi",
        "colab_type": "code",
        "colab": {
          "base_uri": "https://localhost:8080/",
          "height": 311
        },
        "outputId": "f5a920ad-3f82-4d98-b38d-ddff8cce6ad7"
      },
      "source": [
        "inter.plot_confusion_matrix()"
      ],
      "execution_count": 31,
      "outputs": [
        {
          "output_type": "display_data",
          "data": {
            "image/png": "[encoded data removed]",
            "text/plain": [
              "<Figure size 432x288 with 1 Axes>"
            ]
          },
          "metadata": {
            "tags": []
          }
        }
      ]
    },
    {
      "cell_type": "code",
      "metadata": {
        "id": "GN-AA5MCdkVA",
        "colab_type": "code",
        "outputId": "a4c52de2-d95e-48b3-96a2-655b4acf56f8",
        "colab": {
          "base_uri": "https://localhost:8080/",
          "height": 102
        }
      },
      "source": [
        "\n",
        "classifier.predict(\"The product shall ensure that it can only be accessed by authorized users.  The product will be able to distinguish between authorized and unauthorized users in all access attempts\")"
      ],
      "execution_count": 32,
      "outputs": [
        {
          "output_type": "execute_result",
          "data": {
            "text/plain": [
              "(Category Security,\n",
              " tensor(11),\n",
              " tensor([2.7129e-07, 5.3954e-07, 5.0328e-06, 7.9993e-05, 1.2153e-06, 1.4472e-07,\n",
              "         5.0268e-06, 6.3237e-06, 4.0261e-06, 3.7190e-07, 3.5457e-05, 9.9986e-01,\n",
              "         1.1034e-06]))"
            ]
          },
          "metadata": {
            "tags": []
          },
          "execution_count": 32
        }
      ]
    },
    {
      "cell_type": "code",
      "metadata": {
        "id": "B0XDcVPGVReS",
        "colab_type": "code",
        "colab": {
          "base_uri": "https://localhost:8080/",
          "height": 102
        },
        "outputId": "e93ccea3-8f9a-4770-a90c-8eb795076918"
      },
      "source": [
        "#Usability\n",
        "classifier.predict(\" If projected  the data must be readable.  On a 10x10 projection screen  90% of viewers must be able to read Event / Activity data from a viewing distance of 30\")"
      ],
      "execution_count": 33,
      "outputs": [
        {
          "output_type": "execute_result",
          "data": {
            "text/plain": [
              "(Category Usability,\n",
              " tensor(12),\n",
              " tensor([5.7215e-05, 9.4512e-08, 5.2063e-07, 2.8075e-07, 1.1735e-05, 6.6916e-06,\n",
              "         1.2874e-07, 1.0867e-07, 2.0803e-05, 3.1041e-06, 1.8224e-04, 1.8138e-06,\n",
              "         9.9972e-01]))"
            ]
          },
          "metadata": {
            "tags": []
          },
          "execution_count": 33
        }
      ]
    },
    {
      "cell_type": "code",
      "metadata": {
        "id": "fJgjC9hB2oYo",
        "colab_type": "code",
        "colab": {
          "base_uri": "https://localhost:8080/",
          "height": 102
        },
        "outputId": "2cfd0d74-c2ce-4ab4-9d8f-14de20013a6e"
      },
      "source": [
        "#Functional requirement\n",
        "classifier.predict(\"The system shall display Events or Activities.\")"
      ],
      "execution_count": 34,
      "outputs": [
        {
          "output_type": "execute_result",
          "data": {
            "text/plain": [
              "(Category Functional Requirement,\n",
              " tensor(3),\n",
              " tensor([6.3470e-05, 3.0911e-05, 1.8713e-04, 9.9674e-01, 5.3189e-05, 5.5559e-04,\n",
              "         7.8536e-05, 7.7675e-04, 4.5212e-04, 2.3950e-04, 1.0724e-04, 3.6819e-04,\n",
              "         3.4565e-04]))"
            ]
          },
          "metadata": {
            "tags": []
          },
          "execution_count": 34
        }
      ]
    },
    {
      "cell_type": "code",
      "metadata": {
        "id": "mSki8QOF215U",
        "colab_type": "code",
        "colab": {
          "base_uri": "https://localhost:8080/",
          "height": 102
        },
        "outputId": "2b063e5e-03cf-4c76-e016-e5d900cd70ef"
      },
      "source": [
        "# perfomance\n",
        "classifier.predict(\"The response time of general student management tasks shall take no longer than 5 seconds and the response time of schedule generation shall take no longer than 30 seconds.\")"
      ],
      "execution_count": 35,
      "outputs": [
        {
          "output_type": "execute_result",
          "data": {
            "text/plain": [
              "(Category Performance,\n",
              " tensor(8),\n",
              " tensor([4.4182e-08, 1.1181e-08, 1.2023e-09, 6.8249e-11, 4.6326e-09, 1.2907e-08,\n",
              "         3.7909e-07, 1.4463e-09, 1.0000e+00, 5.2454e-09, 6.2659e-10, 6.8128e-11,\n",
              "         3.1979e-10]))"
            ]
          },
          "metadata": {
            "tags": []
          },
          "execution_count": 35
        }
      ]
    },
    {
      "cell_type": "code",
      "metadata": {
        "id": "7EATKH_B3E7c",
        "colab_type": "code",
        "colab": {
          "base_uri": "https://localhost:8080/",
          "height": 102
        },
        "outputId": "82fe173e-1ebe-45a4-9209-c0fffa82297c"
      },
      "source": [
        "# functional requirement\n",
        "classifier.predict(\" The system shall be able to display a printable summary for individual cohorts  which will include the students enlisted  the Program of study  sequence of classes  cohort progress through the program  and timeline of completion.\")"
      ],
      "execution_count": 36,
      "outputs": [
        {
          "output_type": "execute_result",
          "data": {
            "text/plain": [
              "(Category Functional Requirement,\n",
              " tensor(3),\n",
              " tensor([5.2817e-06, 1.1045e-05, 9.0538e-05, 9.9957e-01, 3.6116e-05, 8.8311e-05,\n",
              "         1.6860e-05, 1.4101e-05, 8.3518e-06, 3.7365e-05, 5.4458e-06, 1.1028e-05,\n",
              "         1.0874e-04]))"
            ]
          },
          "metadata": {
            "tags": []
          },
          "execution_count": 36
        }
      ]
    },
    {
      "cell_type": "code",
      "metadata": {
        "id": "jHvyIoNS3k3F",
        "colab_type": "code",
        "colab": {
          "base_uri": "https://localhost:8080/",
          "height": 102
        },
        "outputId": "b5ac0a70-a20c-452c-db08-901fd7356abf"
      },
      "source": [
        "#operational\n",
        "classifier.predict(\"The Disputes application shall interface with the Cardmember Information Database.  The Cardmember Information Database provides detailed information with regard to a cardmember.  All cardmember detail information must be obtained from the Cardmember Information Database.\")"
      ],
      "execution_count": 37,
      "outputs": [
        {
          "output_type": "execute_result",
          "data": {
            "text/plain": [
              "(Category Operational,\n",
              " tensor(7),\n",
              " tensor([1.2415e-04, 8.5762e-05, 1.0971e-04, 2.9811e-04, 9.6246e-04, 2.7918e-03,\n",
              "         3.5628e-05, 9.9172e-01, 2.4821e-04, 9.3780e-05, 1.5200e-05, 1.6026e-03,\n",
              "         1.9165e-03]))"
            ]
          },
          "metadata": {
            "tags": []
          },
          "execution_count": 37
        }
      ]
    },
    {
      "cell_type": "code",
      "metadata": {
        "id": "qnGl7e3R3vaw",
        "colab_type": "code",
        "colab": {
          "base_uri": "https://localhost:8080/",
          "height": 102
        },
        "outputId": "1643d02b-15ef-463e-c5d6-fb8d2bec6d43"
      },
      "source": [
        "\n",
        "#security\n",
        "classifier.predict('The Disputes System shall generate a User Report that details any new users that have been added and any changes to an existing user?s access level.  The report will be reviewed for auditing purposes.')"
      ],
      "execution_count": 38,
      "outputs": [
        {
          "output_type": "execute_result",
          "data": {
            "text/plain": [
              "(Category Functional Requirement,\n",
              " tensor(3),\n",
              " tensor([3.6606e-05, 8.7847e-05, 1.6364e-04, 9.9336e-01, 6.6618e-05, 7.4030e-04,\n",
              "         1.7811e-04, 3.6264e-04, 5.7800e-04, 3.9499e-05, 1.1978e-05, 2.7642e-03,\n",
              "         1.6121e-03]))"
            ]
          },
          "metadata": {
            "tags": []
          },
          "execution_count": 38
        }
      ]
    },
    {
      "cell_type": "code",
      "metadata": {
        "id": "bB960CyG4Ao_",
        "colab_type": "code",
        "colab": {
          "base_uri": "https://localhost:8080/",
          "height": 102
        },
        "outputId": "f74afaa9-be99-44f5-b0fe-15cba3ae6c1e"
      },
      "source": [
        "#legal\n",
        "classifier.predict(\"The Disputes application must conform to the legal requirements as specified by Regulation E and Regulation Z that govern credit card disputes processing.\")"
      ],
      "execution_count": 39,
      "outputs": [
        {
          "output_type": "execute_result",
          "data": {
            "text/plain": [
              "(Category Legal,\n",
              " tensor(4),\n",
              " tensor([8.1104e-05, 1.1760e-03, 2.0484e-04, 1.1905e-03, 9.7258e-01, 1.5289e-02,\n",
              "         1.1830e-03, 7.0479e-03, 8.3791e-05, 9.1458e-05, 3.5256e-04, 8.8911e-05,\n",
              "         6.3197e-04]))"
            ]
          },
          "metadata": {
            "tags": []
          },
          "execution_count": 39
        }
      ]
    },
    {
      "cell_type": "code",
      "metadata": {
        "id": "VXQYZMUO4XdX",
        "colab_type": "code",
        "colab": {
          "base_uri": "https://localhost:8080/",
          "height": 102
        },
        "outputId": "d0c631e4-a0fc-4576-c59d-b7446492d73d"
      },
      "source": [
        "#maintainability\n",
        "classifier.predict(\"The product must be designed using Design Patterns and coding best practices.  90% of maintenance software developers are able to integrate new functionality into the product with 2 working days.\")"
      ],
      "execution_count": 40,
      "outputs": [
        {
          "output_type": "execute_result",
          "data": {
            "text/plain": [
              "(Category Maintainability,\n",
              " tensor(6),\n",
              " tensor([2.6676e-05, 2.7584e-03, 1.0970e-04, 9.6922e-06, 2.1152e-04, 7.8561e-06,\n",
              "         9.6285e-01, 3.3120e-02, 9.0811e-05, 2.1221e-04, 5.1804e-05, 3.8702e-04,\n",
              "         1.6211e-04]))"
            ]
          },
          "metadata": {
            "tags": []
          },
          "execution_count": 40
        }
      ]
    },
    {
      "cell_type": "code",
      "metadata": {
        "id": "OLfnbYVJ4kSs",
        "colab_type": "code",
        "colab": {
          "base_uri": "https://localhost:8080/",
          "height": 102
        },
        "outputId": "2e86554f-a104-47e7-b525-cb0864c788aa"
      },
      "source": [
        "#look and feel\n",
        "classifier.predict(\" The website should have an African feel  but should not alienate non-Africans.  The website should use animation on pages which are describing the services  to grab the users attention and encourage them to sign up.\")"
      ],
      "execution_count": 41,
      "outputs": [
        {
          "output_type": "execute_result",
          "data": {
            "text/plain": [
              "(Category Look and feel,\n",
              " tensor(5),\n",
              " tensor([3.1408e-04, 1.9956e-02, 6.0977e-04, 4.2048e-05, 2.9650e-03, 9.3536e-01,\n",
              "         9.1616e-05, 2.0859e-02, 4.2675e-05, 4.1507e-03, 1.4151e-05, 5.2793e-03,\n",
              "         1.0315e-02]))"
            ]
          },
          "metadata": {
            "tags": []
          },
          "execution_count": 41
        }
      ]
    },
    {
      "cell_type": "code",
      "metadata": {
        "id": "iQ3gsLmL4za6",
        "colab_type": "code",
        "colab": {
          "base_uri": "https://localhost:8080/",
          "height": 102
        },
        "outputId": "324ddd61-9d4c-4454-8e1f-c7e614f104e3"
      },
      "source": [
        "#scalability\n",
        "classifier.predict(\"The effort needed to administer the payroll system (as measured in hours per month of system administrators’ time)  shall not increase with an increase in the number of employees.\")"
      ],
      "execution_count": 42,
      "outputs": [
        {
          "output_type": "execute_result",
          "data": {
            "text/plain": [
              "(Category Scalability,\n",
              " tensor(10),\n",
              " tensor([5.3226e-06, 6.2391e-08, 2.8395e-05, 9.6788e-06, 1.2760e-06, 6.0944e-07,\n",
              "         1.9265e-06, 3.9773e-08, 3.9029e-08, 1.6277e-05, 9.9994e-01, 1.3996e-07,\n",
              "         2.6548e-07]))"
            ]
          },
          "metadata": {
            "tags": []
          },
          "execution_count": 42
        }
      ]
    },
    {
      "cell_type": "code",
      "metadata": {
        "id": "vT9a_4YY4-la",
        "colab_type": "code",
        "colab": {
          "base_uri": "https://localhost:8080/",
          "height": 102
        },
        "outputId": "0754f2b5-ba47-40ef-924f-4487049c0377"
      },
      "source": [
        "#flexibility\n",
        "classifier.predict(\"No piece of text that might be displayed to a user shall reside in program source code.  Every piece of text that a  user might see must be modifiable without changing source code.  That is, no user?visible text will be “hard?coded.” \")"
      ],
      "execution_count": 43,
      "outputs": [
        {
          "output_type": "execute_result",
          "data": {
            "text/plain": [
              "(Category Security,\n",
              " tensor(11),\n",
              " tensor([9.6145e-04, 4.0467e-02, 3.9215e-01, 4.4637e-04, 2.9100e-03, 5.7684e-03,\n",
              "         9.4720e-03, 4.1855e-05, 4.8196e-04, 7.3884e-02, 1.3859e-04, 4.4769e-01,\n",
              "         2.5587e-02]))"
            ]
          },
          "metadata": {
            "tags": []
          },
          "execution_count": 43
        }
      ]
    },
    {
      "cell_type": "code",
      "metadata": {
        "id": "ot5O7whB5RcT",
        "colab_type": "code",
        "colab": {}
      },
      "source": [
        ""
      ],
      "execution_count": 0,
      "outputs": []
    }
  ]
}